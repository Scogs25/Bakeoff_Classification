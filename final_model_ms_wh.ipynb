{
 "cells": [
  {
   "cell_type": "markdown",
   "metadata": {},
   "source": [
    "# Applying Classification Modeling\n",
    "The goal of this week's assessment is to find the model which best predicts whether or not a person will default on their bank loan. In doing so, we want to utilize all of the different tools we have learned over the course: data cleaning, EDA, feature engineering/transformation, feature selection, hyperparameter tuning, and model evaluation. \n",
    "\n",
    "\n",
    "#### Data Set Information:\n",
    "\n",
    "This research aimed at the case of customers default payments in Taiwan and compares the predictive accuracy of probability of default among six data mining methods. From the perspective of risk management, the result of predictive accuracy of the estimated probability of default will be more valuable than the binary result of classification - credible or not credible clients. Because the real probability of default is unknown, this study presented the novel Sorting Smoothing Method to estimate the real probability of default. With the real probability of default as the response variable (Y), and the predictive probability of default as the independent variable (X), the simple linear regression result (Y = A + BX) shows that the forecasting model produced by artificial neural network has the highest coefficient of determination; its regression intercept (A) is close to zero, and regression coefficient (B) to one. Therefore, among the six data mining techniques, artificial neural network is the only one that can accurately estimate the real probability of default. \n",
    "\n",
    "- NT is the abbreviation for New Taiwain. \n",
    "\n",
    "\n",
    "#### Attribute Information:\n",
    "\n",
    "This research employed a binary variable, default payment (Yes = 1, No = 0), as the response variable. This study reviewed the literature and used the following 23 variables as explanatory variables: \n",
    "- X1: Amount of the given credit (NT dollar): it includes both the individual consumer credit and his/her family (supplementary) credit. \n",
    "- X2: Gender (1 = male; 2 = female). \n",
    "- X3: Education (1 = graduate school; 2 = university; 3 = high school; 4 = others). \n",
    "- X4: Marital status (1 = married; 2 = single; 3 = others). \n",
    "- X5: Age (year). \n",
    "- X6 - X11: History of past payment. We tracked the past monthly payment records (from April to September, 2005) as follows: \n",
    "    - X6 = the repayment status in September, 2005; \n",
    "    - X7 = the repayment status in August, 2005; . . .;\n",
    "    - etc...\n",
    "    - X11 = the repayment status in April, 2005. \n",
    "    - The measurement scale for the repayment status is: -1 = pay duly; 1 = payment delay for one month; 2 = payment delay for two months; . . .; 8 = payment delay for eight months; 9 = payment delay for nine months and above. \n",
    "- X12-X17: Amount of bill statement (NT dollar). \n",
    "    - X12 = amount of bill statement in September, 2005;\n",
    "    - etc...\n",
    "    - X13 = amount of bill statement in August, 2005; . . .; \n",
    "    - X17 = amount of bill statement in April, 2005. \n",
    "- X18-X23: Amount of previous payment (NT dollar). \n",
    "    - X18 = amount paid in September, 2005; \n",
    "    - X19 = amount paid in August, 2005; . . .;\n",
    "    - etc...\n",
    "    - X23 = amount paid in April, 2005. \n",
    "\n",
    "\n",
    "\n",
    "\n",
    "You will fit three different models (KNN, Logistic Regression, and Decision Tree Classifier) to predict credit card defaults and use gridsearch to find the best hyperparameters for those models. Then you will compare the performance of those three models on a test set to find the best one.  \n"
   ]
  },
  {
   "cell_type": "markdown",
   "metadata": {},
   "source": [
    "## Process/Expectations\n",
    "\n",
    "- You will be working in pairs for this assessment\n",
    "\n",
    "### Please have ONE notebook and be prepared to explain how you worked in your pair.\n",
    "\n",
    "1. Clean up your data set so that you can perform an EDA. \n",
    "    - This includes handling null values, categorical variables, removing unimportant columns, and removing outliers.\n",
    "2. Perform EDA to identify opportunities to create new features.\n",
    "    - [Great Example of EDA for classification](https://www.kaggle.com/stephaniestallworth/titanic-eda-classification-end-to-end) \n",
    "    - [Using Pairplots with Classification](https://towardsdatascience.com/visualizing-data-with-pair-plots-in-python-f228cf529166)\n",
    "3. Engineer new features. \n",
    "    - Create polynomial and/or interaction features. \n",
    "    - Additionaly, you must also create **at least 2 new features** that are not interactions or polynomial transformations. \n",
    "        - *For example, you can create a new dummy variable that based on the value of a continuous variable (billamount6 >2000) or take the average of some past amounts.*\n",
    "4. Perform some feature selection. \n",
    "    \n",
    "5. You must fit **three** models to your data and tune **at least 1 hyperparameter** per model. \n",
    "6. Using the F-1 Score, evaluate how well your models perform and identify your best model.\n",
    "7. Using information from your EDA process and your model(s) output provide insight as to which borrowers are more likely to deafult\n"
   ]
  },
  {
   "cell_type": "code",
   "execution_count": 1,
   "metadata": {},
   "outputs": [],
   "source": [
    "# import libraries\n",
    "import numpy as np\n",
    "import pandas as pd\n",
    "import matplotlib.pyplot as plt\n",
    "from sklearn.preprocessing import StandardScaler\n",
    "from sklearn.preprocessing import MinMaxScaler\n",
    "from sklearn.linear_model import LogisticRegression\n",
    "from sklearn.model_selection import train_test_split\n",
    "from sklearn.neighbors import KNeighborsClassifier\n",
    "from sklearn.tree import DecisionTreeClassifier\n",
    "from sklearn.ensemble import RandomForestClassifier\n",
    "from sklearn import metrics\n",
    "from sklearn.ensemble import BaggingClassifier\n",
    "from sklearn.ensemble import VotingClassifier\n",
    "from sklearn.model_selection import GridSearchCV"
   ]
  },
  {
   "cell_type": "markdown",
   "metadata": {},
   "source": [
    "## 1. Data Cleaning"
   ]
  },
  {
   "cell_type": "code",
   "execution_count": 2,
   "metadata": {},
   "outputs": [],
   "source": [
    "df = pd.read_csv('training_data.csv' , index_col=0)"
   ]
  },
  {
   "cell_type": "code",
   "execution_count": 183,
   "metadata": {},
   "outputs": [
    {
     "data": {
      "text/plain": [
       "(22500, 24)"
      ]
     },
     "execution_count": 183,
     "metadata": {},
     "output_type": "execute_result"
    }
   ],
   "source": [
    "df.shape"
   ]
  },
  {
   "cell_type": "code",
   "execution_count": 3,
   "metadata": {
    "scrolled": true
   },
   "outputs": [
    {
     "data": {
      "text/plain": [
       "0                             17471\n",
       "1                              5028\n",
       "default payment next month        1\n",
       "Name: Y, dtype: int64"
      ]
     },
     "execution_count": 3,
     "metadata": {},
     "output_type": "execute_result"
    }
   ],
   "source": [
    "df.Y.value_counts()"
   ]
  },
  {
   "cell_type": "code",
   "execution_count": 4,
   "metadata": {},
   "outputs": [],
   "source": [
    "# Split data to be used in the models\n",
    "# Create matrix of features\n",
    "X = df.drop('Y', axis = 1) # grabs everything else but 'Survived'\n",
    "\n",
    "\n",
    "# Create target variable\n",
    "y = df['Y'] # y is the column we're trying to predict"
   ]
  },
  {
   "cell_type": "code",
   "execution_count": 5,
   "metadata": {},
   "outputs": [
    {
     "data": {
      "text/plain": [
       "2            10516\n",
       "1             7919\n",
       "3             3713\n",
       "5              208\n",
       "4               90\n",
       "6               42\n",
       "0               11\n",
       "EDUCATION        1\n",
       "Name: X3, dtype: int64"
      ]
     },
     "execution_count": 5,
     "metadata": {},
     "output_type": "execute_result"
    }
   ],
   "source": [
    "df['X3'].value_counts()"
   ]
  },
  {
   "cell_type": "code",
   "execution_count": 6,
   "metadata": {},
   "outputs": [
    {
     "data": {
      "text/plain": [
       "0"
      ]
     },
     "execution_count": 6,
     "metadata": {},
     "output_type": "execute_result"
    }
   ],
   "source": [
    "X.isna().any().sum()"
   ]
  },
  {
   "cell_type": "code",
   "execution_count": 7,
   "metadata": {},
   "outputs": [
    {
     "data": {
      "text/plain": [
       "0"
      ]
     },
     "execution_count": 7,
     "metadata": {},
     "output_type": "execute_result"
    }
   ],
   "source": [
    "y.isna().any().sum()"
   ]
  },
  {
   "cell_type": "code",
   "execution_count": 8,
   "metadata": {
    "scrolled": false
   },
   "outputs": [
    {
     "data": {
      "text/plain": [
       "X1     object\n",
       "X2     object\n",
       "X3     object\n",
       "X4     object\n",
       "X5     object\n",
       "X6     object\n",
       "X7     object\n",
       "X8     object\n",
       "X9     object\n",
       "X10    object\n",
       "X11    object\n",
       "X12    object\n",
       "X13    object\n",
       "X14    object\n",
       "X15    object\n",
       "X16    object\n",
       "X17    object\n",
       "X18    object\n",
       "X19    object\n",
       "X20    object\n",
       "X21    object\n",
       "X22    object\n",
       "X23    object\n",
       "dtype: object"
      ]
     },
     "execution_count": 8,
     "metadata": {},
     "output_type": "execute_result"
    }
   ],
   "source": [
    "X.dtypes"
   ]
  },
  {
   "cell_type": "code",
   "execution_count": 9,
   "metadata": {
    "scrolled": true
   },
   "outputs": [
    {
     "data": {
      "text/html": [
       "<div>\n",
       "<style scoped>\n",
       "    .dataframe tbody tr th:only-of-type {\n",
       "        vertical-align: middle;\n",
       "    }\n",
       "\n",
       "    .dataframe tbody tr th {\n",
       "        vertical-align: top;\n",
       "    }\n",
       "\n",
       "    .dataframe thead th {\n",
       "        text-align: right;\n",
       "    }\n",
       "</style>\n",
       "<table border=\"1\" class=\"dataframe\">\n",
       "  <thead>\n",
       "    <tr style=\"text-align: right;\">\n",
       "      <th></th>\n",
       "      <th>X1</th>\n",
       "      <th>X2</th>\n",
       "      <th>X3</th>\n",
       "      <th>X4</th>\n",
       "      <th>X5</th>\n",
       "      <th>X6</th>\n",
       "      <th>X7</th>\n",
       "      <th>X8</th>\n",
       "      <th>X9</th>\n",
       "      <th>X10</th>\n",
       "      <th>...</th>\n",
       "      <th>X14</th>\n",
       "      <th>X15</th>\n",
       "      <th>X16</th>\n",
       "      <th>X17</th>\n",
       "      <th>X18</th>\n",
       "      <th>X19</th>\n",
       "      <th>X20</th>\n",
       "      <th>X21</th>\n",
       "      <th>X22</th>\n",
       "      <th>X23</th>\n",
       "    </tr>\n",
       "  </thead>\n",
       "  <tbody>\n",
       "    <tr>\n",
       "      <th>28835</th>\n",
       "      <td>220000</td>\n",
       "      <td>2</td>\n",
       "      <td>1</td>\n",
       "      <td>2</td>\n",
       "      <td>36</td>\n",
       "      <td>0</td>\n",
       "      <td>0</td>\n",
       "      <td>0</td>\n",
       "      <td>0</td>\n",
       "      <td>0</td>\n",
       "      <td>...</td>\n",
       "      <td>217900</td>\n",
       "      <td>221193</td>\n",
       "      <td>181859</td>\n",
       "      <td>184605</td>\n",
       "      <td>10000</td>\n",
       "      <td>8018</td>\n",
       "      <td>10121</td>\n",
       "      <td>6006</td>\n",
       "      <td>10987</td>\n",
       "      <td>143779</td>\n",
       "    </tr>\n",
       "    <tr>\n",
       "      <th>25329</th>\n",
       "      <td>200000</td>\n",
       "      <td>2</td>\n",
       "      <td>3</td>\n",
       "      <td>2</td>\n",
       "      <td>29</td>\n",
       "      <td>-1</td>\n",
       "      <td>-1</td>\n",
       "      <td>-1</td>\n",
       "      <td>-1</td>\n",
       "      <td>-1</td>\n",
       "      <td>...</td>\n",
       "      <td>326</td>\n",
       "      <td>326</td>\n",
       "      <td>326</td>\n",
       "      <td>326</td>\n",
       "      <td>326</td>\n",
       "      <td>326</td>\n",
       "      <td>326</td>\n",
       "      <td>326</td>\n",
       "      <td>326</td>\n",
       "      <td>326</td>\n",
       "    </tr>\n",
       "    <tr>\n",
       "      <th>18894</th>\n",
       "      <td>180000</td>\n",
       "      <td>2</td>\n",
       "      <td>1</td>\n",
       "      <td>2</td>\n",
       "      <td>27</td>\n",
       "      <td>-2</td>\n",
       "      <td>-2</td>\n",
       "      <td>-2</td>\n",
       "      <td>-2</td>\n",
       "      <td>-2</td>\n",
       "      <td>...</td>\n",
       "      <td>0</td>\n",
       "      <td>0</td>\n",
       "      <td>0</td>\n",
       "      <td>0</td>\n",
       "      <td>0</td>\n",
       "      <td>0</td>\n",
       "      <td>0</td>\n",
       "      <td>0</td>\n",
       "      <td>0</td>\n",
       "      <td>0</td>\n",
       "    </tr>\n",
       "    <tr>\n",
       "      <th>690</th>\n",
       "      <td>80000</td>\n",
       "      <td>1</td>\n",
       "      <td>2</td>\n",
       "      <td>2</td>\n",
       "      <td>32</td>\n",
       "      <td>0</td>\n",
       "      <td>0</td>\n",
       "      <td>0</td>\n",
       "      <td>0</td>\n",
       "      <td>0</td>\n",
       "      <td>...</td>\n",
       "      <td>47593</td>\n",
       "      <td>43882</td>\n",
       "      <td>42256</td>\n",
       "      <td>42527</td>\n",
       "      <td>1853</td>\n",
       "      <td>1700</td>\n",
       "      <td>1522</td>\n",
       "      <td>1548</td>\n",
       "      <td>1488</td>\n",
       "      <td>1500</td>\n",
       "    </tr>\n",
       "    <tr>\n",
       "      <th>6239</th>\n",
       "      <td>10000</td>\n",
       "      <td>1</td>\n",
       "      <td>2</td>\n",
       "      <td>2</td>\n",
       "      <td>27</td>\n",
       "      <td>0</td>\n",
       "      <td>0</td>\n",
       "      <td>0</td>\n",
       "      <td>0</td>\n",
       "      <td>0</td>\n",
       "      <td>...</td>\n",
       "      <td>4878</td>\n",
       "      <td>5444</td>\n",
       "      <td>2639</td>\n",
       "      <td>2697</td>\n",
       "      <td>2000</td>\n",
       "      <td>1100</td>\n",
       "      <td>600</td>\n",
       "      <td>300</td>\n",
       "      <td>300</td>\n",
       "      <td>1000</td>\n",
       "    </tr>\n",
       "  </tbody>\n",
       "</table>\n",
       "<p>5 rows × 23 columns</p>\n",
       "</div>"
      ],
      "text/plain": [
       "           X1 X2 X3 X4  X5  X6  X7  X8  X9 X10  ...     X14     X15     X16  \\\n",
       "28835  220000  2  1  2  36   0   0   0   0   0  ...  217900  221193  181859   \n",
       "25329  200000  2  3  2  29  -1  -1  -1  -1  -1  ...     326     326     326   \n",
       "18894  180000  2  1  2  27  -2  -2  -2  -2  -2  ...       0       0       0   \n",
       "690     80000  1  2  2  32   0   0   0   0   0  ...   47593   43882   42256   \n",
       "6239    10000  1  2  2  27   0   0   0   0   0  ...    4878    5444    2639   \n",
       "\n",
       "          X17    X18   X19    X20   X21    X22     X23  \n",
       "28835  184605  10000  8018  10121  6006  10987  143779  \n",
       "25329     326    326   326    326   326    326     326  \n",
       "18894       0      0     0      0     0      0       0  \n",
       "690     42527   1853  1700   1522  1548   1488    1500  \n",
       "6239     2697   2000  1100    600   300    300    1000  \n",
       "\n",
       "[5 rows x 23 columns]"
      ]
     },
     "execution_count": 9,
     "metadata": {},
     "output_type": "execute_result"
    }
   ],
   "source": [
    "X.head()"
   ]
  },
  {
   "cell_type": "code",
   "execution_count": 10,
   "metadata": {},
   "outputs": [
    {
     "data": {
      "text/plain": [
       "2      13572\n",
       "1       8927\n",
       "SEX        1\n",
       "Name: X2, dtype: int64"
      ]
     },
     "execution_count": 10,
     "metadata": {},
     "output_type": "execute_result"
    }
   ],
   "source": [
    "X.X2.value_counts()"
   ]
  },
  {
   "cell_type": "code",
   "execution_count": 11,
   "metadata": {},
   "outputs": [],
   "source": [
    "X[X['X2'] == 'SEX' ].values\n",
    "X.columns=['LIMIT_BAL', 'SEX', 'EDUCATION', 'MARRIAGE', 'AGE', 'PAY_0',\n",
    "        'PAY_2', 'PAY_3', 'PAY_4', 'PAY_5', 'PAY_6', 'BILL_AMT1',\n",
    "        'BILL_AMT2', 'BILL_AMT3', 'BILL_AMT4', 'BILL_AMT5', 'BILL_AMT6',\n",
    "        'PAY_AMT1', 'PAY_AMT2', 'PAY_AMT3', 'PAY_AMT4', 'PAY_AMT5',\n",
    "        'PAY_AMT6']"
   ]
  },
  {
   "cell_type": "code",
   "execution_count": 12,
   "metadata": {},
   "outputs": [
    {
     "data": {
      "text/html": [
       "<div>\n",
       "<style scoped>\n",
       "    .dataframe tbody tr th:only-of-type {\n",
       "        vertical-align: middle;\n",
       "    }\n",
       "\n",
       "    .dataframe tbody tr th {\n",
       "        vertical-align: top;\n",
       "    }\n",
       "\n",
       "    .dataframe thead th {\n",
       "        text-align: right;\n",
       "    }\n",
       "</style>\n",
       "<table border=\"1\" class=\"dataframe\">\n",
       "  <thead>\n",
       "    <tr style=\"text-align: right;\">\n",
       "      <th></th>\n",
       "      <th>LIMIT_BAL</th>\n",
       "      <th>SEX</th>\n",
       "      <th>EDUCATION</th>\n",
       "      <th>MARRIAGE</th>\n",
       "      <th>AGE</th>\n",
       "      <th>PAY_0</th>\n",
       "      <th>PAY_2</th>\n",
       "      <th>PAY_3</th>\n",
       "      <th>PAY_4</th>\n",
       "      <th>PAY_5</th>\n",
       "      <th>...</th>\n",
       "      <th>BILL_AMT3</th>\n",
       "      <th>BILL_AMT4</th>\n",
       "      <th>BILL_AMT5</th>\n",
       "      <th>BILL_AMT6</th>\n",
       "      <th>PAY_AMT1</th>\n",
       "      <th>PAY_AMT2</th>\n",
       "      <th>PAY_AMT3</th>\n",
       "      <th>PAY_AMT4</th>\n",
       "      <th>PAY_AMT5</th>\n",
       "      <th>PAY_AMT6</th>\n",
       "    </tr>\n",
       "  </thead>\n",
       "  <tbody>\n",
       "    <tr>\n",
       "      <th>28835</th>\n",
       "      <td>220000</td>\n",
       "      <td>2</td>\n",
       "      <td>1</td>\n",
       "      <td>2</td>\n",
       "      <td>36</td>\n",
       "      <td>0</td>\n",
       "      <td>0</td>\n",
       "      <td>0</td>\n",
       "      <td>0</td>\n",
       "      <td>0</td>\n",
       "      <td>...</td>\n",
       "      <td>217900</td>\n",
       "      <td>221193</td>\n",
       "      <td>181859</td>\n",
       "      <td>184605</td>\n",
       "      <td>10000</td>\n",
       "      <td>8018</td>\n",
       "      <td>10121</td>\n",
       "      <td>6006</td>\n",
       "      <td>10987</td>\n",
       "      <td>143779</td>\n",
       "    </tr>\n",
       "    <tr>\n",
       "      <th>25329</th>\n",
       "      <td>200000</td>\n",
       "      <td>2</td>\n",
       "      <td>3</td>\n",
       "      <td>2</td>\n",
       "      <td>29</td>\n",
       "      <td>-1</td>\n",
       "      <td>-1</td>\n",
       "      <td>-1</td>\n",
       "      <td>-1</td>\n",
       "      <td>-1</td>\n",
       "      <td>...</td>\n",
       "      <td>326</td>\n",
       "      <td>326</td>\n",
       "      <td>326</td>\n",
       "      <td>326</td>\n",
       "      <td>326</td>\n",
       "      <td>326</td>\n",
       "      <td>326</td>\n",
       "      <td>326</td>\n",
       "      <td>326</td>\n",
       "      <td>326</td>\n",
       "    </tr>\n",
       "    <tr>\n",
       "      <th>18894</th>\n",
       "      <td>180000</td>\n",
       "      <td>2</td>\n",
       "      <td>1</td>\n",
       "      <td>2</td>\n",
       "      <td>27</td>\n",
       "      <td>-2</td>\n",
       "      <td>-2</td>\n",
       "      <td>-2</td>\n",
       "      <td>-2</td>\n",
       "      <td>-2</td>\n",
       "      <td>...</td>\n",
       "      <td>0</td>\n",
       "      <td>0</td>\n",
       "      <td>0</td>\n",
       "      <td>0</td>\n",
       "      <td>0</td>\n",
       "      <td>0</td>\n",
       "      <td>0</td>\n",
       "      <td>0</td>\n",
       "      <td>0</td>\n",
       "      <td>0</td>\n",
       "    </tr>\n",
       "    <tr>\n",
       "      <th>690</th>\n",
       "      <td>80000</td>\n",
       "      <td>1</td>\n",
       "      <td>2</td>\n",
       "      <td>2</td>\n",
       "      <td>32</td>\n",
       "      <td>0</td>\n",
       "      <td>0</td>\n",
       "      <td>0</td>\n",
       "      <td>0</td>\n",
       "      <td>0</td>\n",
       "      <td>...</td>\n",
       "      <td>47593</td>\n",
       "      <td>43882</td>\n",
       "      <td>42256</td>\n",
       "      <td>42527</td>\n",
       "      <td>1853</td>\n",
       "      <td>1700</td>\n",
       "      <td>1522</td>\n",
       "      <td>1548</td>\n",
       "      <td>1488</td>\n",
       "      <td>1500</td>\n",
       "    </tr>\n",
       "    <tr>\n",
       "      <th>6239</th>\n",
       "      <td>10000</td>\n",
       "      <td>1</td>\n",
       "      <td>2</td>\n",
       "      <td>2</td>\n",
       "      <td>27</td>\n",
       "      <td>0</td>\n",
       "      <td>0</td>\n",
       "      <td>0</td>\n",
       "      <td>0</td>\n",
       "      <td>0</td>\n",
       "      <td>...</td>\n",
       "      <td>4878</td>\n",
       "      <td>5444</td>\n",
       "      <td>2639</td>\n",
       "      <td>2697</td>\n",
       "      <td>2000</td>\n",
       "      <td>1100</td>\n",
       "      <td>600</td>\n",
       "      <td>300</td>\n",
       "      <td>300</td>\n",
       "      <td>1000</td>\n",
       "    </tr>\n",
       "  </tbody>\n",
       "</table>\n",
       "<p>5 rows × 23 columns</p>\n",
       "</div>"
      ],
      "text/plain": [
       "      LIMIT_BAL SEX EDUCATION MARRIAGE AGE PAY_0 PAY_2 PAY_3 PAY_4 PAY_5  ...  \\\n",
       "28835    220000   2         1        2  36     0     0     0     0     0  ...   \n",
       "25329    200000   2         3        2  29    -1    -1    -1    -1    -1  ...   \n",
       "18894    180000   2         1        2  27    -2    -2    -2    -2    -2  ...   \n",
       "690       80000   1         2        2  32     0     0     0     0     0  ...   \n",
       "6239      10000   1         2        2  27     0     0     0     0     0  ...   \n",
       "\n",
       "      BILL_AMT3 BILL_AMT4 BILL_AMT5 BILL_AMT6 PAY_AMT1 PAY_AMT2 PAY_AMT3  \\\n",
       "28835    217900    221193    181859    184605    10000     8018    10121   \n",
       "25329       326       326       326       326      326      326      326   \n",
       "18894         0         0         0         0        0        0        0   \n",
       "690       47593     43882     42256     42527     1853     1700     1522   \n",
       "6239       4878      5444      2639      2697     2000     1100      600   \n",
       "\n",
       "      PAY_AMT4 PAY_AMT5 PAY_AMT6  \n",
       "28835     6006    10987   143779  \n",
       "25329      326      326      326  \n",
       "18894        0        0        0  \n",
       "690       1548     1488     1500  \n",
       "6239       300      300     1000  \n",
       "\n",
       "[5 rows x 23 columns]"
      ]
     },
     "execution_count": 12,
     "metadata": {},
     "output_type": "execute_result"
    }
   ],
   "source": [
    "X.head()"
   ]
  },
  {
   "cell_type": "code",
   "execution_count": 13,
   "metadata": {},
   "outputs": [],
   "source": [
    "y=X[X['SEX']=='SEX'].index"
   ]
  },
  {
   "cell_type": "code",
   "execution_count": 14,
   "metadata": {},
   "outputs": [],
   "source": [
    "X.drop(axis=0,labels=y,inplace=True)"
   ]
  },
  {
   "cell_type": "code",
   "execution_count": 15,
   "metadata": {},
   "outputs": [],
   "source": [
    "X=X.apply(lambda x:x.astype('float'))"
   ]
  },
  {
   "cell_type": "code",
   "execution_count": 16,
   "metadata": {
    "scrolled": false
   },
   "outputs": [
    {
     "data": {
      "text/plain": [
       "LIMIT_BAL    float64\n",
       "SEX          float64\n",
       "EDUCATION    float64\n",
       "MARRIAGE     float64\n",
       "AGE          float64\n",
       "PAY_0        float64\n",
       "PAY_2        float64\n",
       "PAY_3        float64\n",
       "PAY_4        float64\n",
       "PAY_5        float64\n",
       "PAY_6        float64\n",
       "BILL_AMT1    float64\n",
       "BILL_AMT2    float64\n",
       "BILL_AMT3    float64\n",
       "BILL_AMT4    float64\n",
       "BILL_AMT5    float64\n",
       "BILL_AMT6    float64\n",
       "PAY_AMT1     float64\n",
       "PAY_AMT2     float64\n",
       "PAY_AMT3     float64\n",
       "PAY_AMT4     float64\n",
       "PAY_AMT5     float64\n",
       "PAY_AMT6     float64\n",
       "dtype: object"
      ]
     },
     "execution_count": 16,
     "metadata": {},
     "output_type": "execute_result"
    }
   ],
   "source": [
    "X.dtypes"
   ]
  },
  {
   "cell_type": "code",
   "execution_count": 17,
   "metadata": {},
   "outputs": [],
   "source": [
    "X.SEX=np.where(X.SEX==1,1,0)"
   ]
  },
  {
   "cell_type": "code",
   "execution_count": 18,
   "metadata": {},
   "outputs": [
    {
     "data": {
      "text/plain": [
       "0    13572\n",
       "1     8927\n",
       "Name: SEX, dtype: int64"
      ]
     },
     "execution_count": 18,
     "metadata": {},
     "output_type": "execute_result"
    }
   ],
   "source": [
    "X.SEX.value_counts()"
   ]
  },
  {
   "cell_type": "code",
   "execution_count": 19,
   "metadata": {},
   "outputs": [],
   "source": [
    "conds=[X.EDUCATION==4,X.EDUCATION==5,X.EDUCATION==6,X.EDUCATION==1,X.EDUCATION==3]\n",
    "choices=[0,0,0,3,1]\n",
    "X.EDUCATION=np.select(conds,choices,default=X.EDUCATION)\n"
   ]
  },
  {
   "cell_type": "code",
   "execution_count": 20,
   "metadata": {},
   "outputs": [],
   "source": [
    "X.MARRIAGE=np.where(X.MARRIAGE==3,0,X.MARRIAGE)"
   ]
  },
  {
   "cell_type": "code",
   "execution_count": 21,
   "metadata": {},
   "outputs": [
    {
     "data": {
      "text/plain": [
       "2.0    12026\n",
       "1.0    10195\n",
       "0.0      278\n",
       "Name: MARRIAGE, dtype: int64"
      ]
     },
     "execution_count": 21,
     "metadata": {},
     "output_type": "execute_result"
    }
   ],
   "source": [
    "X.MARRIAGE.value_counts()"
   ]
  },
  {
   "cell_type": "code",
   "execution_count": 22,
   "metadata": {
    "scrolled": true
   },
   "outputs": [
    {
     "data": {
      "text/plain": [
       "29.0    1243\n",
       "27.0    1100\n",
       "28.0    1064\n",
       "30.0    1026\n",
       "26.0     959\n",
       "25.0     904\n",
       "31.0     902\n",
       "32.0     878\n",
       "33.0     874\n",
       "34.0     859\n",
       "24.0     851\n",
       "35.0     841\n",
       "36.0     812\n",
       "37.0     799\n",
       "38.0     720\n",
       "39.0     703\n",
       "23.0     690\n",
       "40.0     656\n",
       "41.0     613\n",
       "42.0     597\n",
       "44.0     512\n",
       "43.0     495\n",
       "45.0     462\n",
       "46.0     421\n",
       "22.0     420\n",
       "47.0     340\n",
       "48.0     339\n",
       "49.0     326\n",
       "50.0     298\n",
       "51.0     269\n",
       "53.0     241\n",
       "52.0     236\n",
       "54.0     184\n",
       "55.0     154\n",
       "56.0     147\n",
       "57.0      89\n",
       "58.0      89\n",
       "59.0      62\n",
       "60.0      56\n",
       "21.0      56\n",
       "61.0      45\n",
       "62.0      32\n",
       "64.0      24\n",
       "63.0      24\n",
       "66.0      21\n",
       "65.0      17\n",
       "67.0      13\n",
       "69.0      10\n",
       "70.0      10\n",
       "68.0       5\n",
       "73.0       3\n",
       "72.0       3\n",
       "75.0       2\n",
       "71.0       2\n",
       "74.0       1\n",
       "Name: AGE, dtype: int64"
      ]
     },
     "execution_count": 22,
     "metadata": {},
     "output_type": "execute_result"
    }
   ],
   "source": [
    "X.AGE.value_counts()"
   ]
  },
  {
   "cell_type": "code",
   "execution_count": null,
   "metadata": {},
   "outputs": [],
   "source": []
  },
  {
   "cell_type": "code",
   "execution_count": 23,
   "metadata": {},
   "outputs": [],
   "source": [
    "Y=df['Y']"
   ]
  },
  {
   "cell_type": "code",
   "execution_count": 24,
   "metadata": {},
   "outputs": [
    {
     "data": {
      "text/plain": [
       "0                             17471\n",
       "1                              5028\n",
       "default payment next month        1\n",
       "Name: Y, dtype: int64"
      ]
     },
     "execution_count": 24,
     "metadata": {},
     "output_type": "execute_result"
    }
   ],
   "source": [
    "Y.value_counts()"
   ]
  },
  {
   "cell_type": "code",
   "execution_count": 25,
   "metadata": {},
   "outputs": [
    {
     "data": {
      "text/html": [
       "<div>\n",
       "<style scoped>\n",
       "    .dataframe tbody tr th:only-of-type {\n",
       "        vertical-align: middle;\n",
       "    }\n",
       "\n",
       "    .dataframe tbody tr th {\n",
       "        vertical-align: top;\n",
       "    }\n",
       "\n",
       "    .dataframe thead th {\n",
       "        text-align: right;\n",
       "    }\n",
       "</style>\n",
       "<table border=\"1\" class=\"dataframe\">\n",
       "  <thead>\n",
       "    <tr style=\"text-align: right;\">\n",
       "      <th></th>\n",
       "      <th>PAY_2</th>\n",
       "      <th>PAY_3</th>\n",
       "      <th>BILL_AMT2</th>\n",
       "      <th>PAY_AMT2</th>\n",
       "      <th>BILL_AMT3</th>\n",
       "      <th>PAY_AMT3</th>\n",
       "    </tr>\n",
       "  </thead>\n",
       "  <tbody>\n",
       "    <tr>\n",
       "      <th>20823</th>\n",
       "      <td>-1.0</td>\n",
       "      <td>0.0</td>\n",
       "      <td>87920.0</td>\n",
       "      <td>19406.0</td>\n",
       "      <td>17991.0</td>\n",
       "      <td>102989.0</td>\n",
       "    </tr>\n",
       "    <tr>\n",
       "      <th>23301</th>\n",
       "      <td>-1.0</td>\n",
       "      <td>0.0</td>\n",
       "      <td>3121.0</td>\n",
       "      <td>39774.0</td>\n",
       "      <td>44092.0</td>\n",
       "      <td>43325.0</td>\n",
       "    </tr>\n",
       "    <tr>\n",
       "      <th>16190</th>\n",
       "      <td>-1.0</td>\n",
       "      <td>0.0</td>\n",
       "      <td>157205.0</td>\n",
       "      <td>10056.0</td>\n",
       "      <td>91091.0</td>\n",
       "      <td>10000.0</td>\n",
       "    </tr>\n",
       "    <tr>\n",
       "      <th>20999</th>\n",
       "      <td>-1.0</td>\n",
       "      <td>0.0</td>\n",
       "      <td>89691.0</td>\n",
       "      <td>3935.0</td>\n",
       "      <td>91517.0</td>\n",
       "      <td>3759.0</td>\n",
       "    </tr>\n",
       "    <tr>\n",
       "      <th>27895</th>\n",
       "      <td>-1.0</td>\n",
       "      <td>0.0</td>\n",
       "      <td>151691.0</td>\n",
       "      <td>6502.0</td>\n",
       "      <td>143248.0</td>\n",
       "      <td>4333.0</td>\n",
       "    </tr>\n",
       "    <tr>\n",
       "      <th>...</th>\n",
       "      <td>...</td>\n",
       "      <td>...</td>\n",
       "      <td>...</td>\n",
       "      <td>...</td>\n",
       "      <td>...</td>\n",
       "      <td>...</td>\n",
       "    </tr>\n",
       "    <tr>\n",
       "      <th>29440</th>\n",
       "      <td>-1.0</td>\n",
       "      <td>0.0</td>\n",
       "      <td>734.0</td>\n",
       "      <td>1044.0</td>\n",
       "      <td>1580.0</td>\n",
       "      <td>1000.0</td>\n",
       "    </tr>\n",
       "    <tr>\n",
       "      <th>18372</th>\n",
       "      <td>-1.0</td>\n",
       "      <td>0.0</td>\n",
       "      <td>66470.0</td>\n",
       "      <td>2451.0</td>\n",
       "      <td>66187.0</td>\n",
       "      <td>2543.0</td>\n",
       "    </tr>\n",
       "    <tr>\n",
       "      <th>28363</th>\n",
       "      <td>-1.0</td>\n",
       "      <td>0.0</td>\n",
       "      <td>5939.0</td>\n",
       "      <td>2624.0</td>\n",
       "      <td>6624.0</td>\n",
       "      <td>3004.0</td>\n",
       "    </tr>\n",
       "    <tr>\n",
       "      <th>11168</th>\n",
       "      <td>-1.0</td>\n",
       "      <td>0.0</td>\n",
       "      <td>18180.0</td>\n",
       "      <td>1500.0</td>\n",
       "      <td>3463.0</td>\n",
       "      <td>3000.0</td>\n",
       "    </tr>\n",
       "    <tr>\n",
       "      <th>21008</th>\n",
       "      <td>-1.0</td>\n",
       "      <td>0.0</td>\n",
       "      <td>227075.0</td>\n",
       "      <td>10000.0</td>\n",
       "      <td>217016.0</td>\n",
       "      <td>5210.0</td>\n",
       "    </tr>\n",
       "  </tbody>\n",
       "</table>\n",
       "<p>434 rows × 6 columns</p>\n",
       "</div>"
      ],
      "text/plain": [
       "       PAY_2  PAY_3  BILL_AMT2  PAY_AMT2  BILL_AMT3  PAY_AMT3\n",
       "20823   -1.0    0.0    87920.0   19406.0    17991.0  102989.0\n",
       "23301   -1.0    0.0     3121.0   39774.0    44092.0   43325.0\n",
       "16190   -1.0    0.0   157205.0   10056.0    91091.0   10000.0\n",
       "20999   -1.0    0.0    89691.0    3935.0    91517.0    3759.0\n",
       "27895   -1.0    0.0   151691.0    6502.0   143248.0    4333.0\n",
       "...      ...    ...        ...       ...        ...       ...\n",
       "29440   -1.0    0.0      734.0    1044.0     1580.0    1000.0\n",
       "18372   -1.0    0.0    66470.0    2451.0    66187.0    2543.0\n",
       "28363   -1.0    0.0     5939.0    2624.0     6624.0    3004.0\n",
       "11168   -1.0    0.0    18180.0    1500.0     3463.0    3000.0\n",
       "21008   -1.0    0.0   227075.0   10000.0   217016.0    5210.0\n",
       "\n",
       "[434 rows x 6 columns]"
      ]
     },
     "execution_count": 25,
     "metadata": {},
     "output_type": "execute_result"
    }
   ],
   "source": [
    "X.loc[(X.PAY_2==-1) & (X.PAY_3==0),['PAY_2','PAY_3','BILL_AMT2','PAY_AMT2','BILL_AMT3','PAY_AMT3']]"
   ]
  },
  {
   "cell_type": "code",
   "execution_count": 26,
   "metadata": {},
   "outputs": [
    {
     "data": {
      "text/plain": [
       "(22499, 23)"
      ]
     },
     "execution_count": 26,
     "metadata": {},
     "output_type": "execute_result"
    }
   ],
   "source": [
    "X.shape"
   ]
  },
  {
   "cell_type": "code",
   "execution_count": 27,
   "metadata": {},
   "outputs": [
    {
     "data": {
      "text/plain": [
       " 0.0    11057\n",
       "-1.0     4272\n",
       " 1.0     2750\n",
       "-2.0     2048\n",
       " 2.0     2032\n",
       " 3.0      239\n",
       " 4.0       51\n",
       " 5.0       20\n",
       " 8.0       15\n",
       " 6.0        9\n",
       " 7.0        6\n",
       "Name: PAY_0, dtype: int64"
      ]
     },
     "execution_count": 27,
     "metadata": {},
     "output_type": "execute_result"
    }
   ],
   "source": [
    "X.PAY_0.value_counts()"
   ]
  },
  {
   "cell_type": "code",
   "execution_count": 28,
   "metadata": {},
   "outputs": [
    {
     "data": {
      "text/plain": [
       "Index(['LIMIT_BAL', 'SEX', 'EDUCATION', 'MARRIAGE', 'AGE', 'PAY_0', 'PAY_2',\n",
       "       'PAY_3', 'PAY_4', 'PAY_5', 'PAY_6', 'BILL_AMT1', 'BILL_AMT2',\n",
       "       'BILL_AMT3', 'BILL_AMT4', 'BILL_AMT5', 'BILL_AMT6', 'PAY_AMT1',\n",
       "       'PAY_AMT2', 'PAY_AMT3', 'PAY_AMT4', 'PAY_AMT5', 'PAY_AMT6'],\n",
       "      dtype='object')"
      ]
     },
     "execution_count": 28,
     "metadata": {},
     "output_type": "execute_result"
    }
   ],
   "source": [
    "X.columns"
   ]
  },
  {
   "cell_type": "code",
   "execution_count": 29,
   "metadata": {
    "scrolled": true
   },
   "outputs": [
    {
     "data": {
      "image/png": "[encoded data removed]",
      "text/plain": [
       "<Figure size 432x288 with 1 Axes>"
      ]
     },
     "metadata": {
      "needs_background": "light"
     },
     "output_type": "display_data"
    },
    {
     "data": {
      "image/png": "[encoded data removed]",
      "text/plain": [
       "<Figure size 432x288 with 1 Axes>"
      ]
     },
     "metadata": {
      "needs_background": "light"
     },
     "output_type": "display_data"
    },
    {
     "data": {
      "image/png": "[encoded data removed]",
      "text/plain": [
       "<Figure size 432x288 with 1 Axes>"
      ]
     },
     "metadata": {
      "needs_background": "light"
     },
     "output_type": "display_data"
    },
    {
     "data": {
      "image/png": "[encoded data removed]",
      "text/plain": [
       "<Figure size 432x288 with 1 Axes>"
      ]
     },
     "metadata": {
      "needs_background": "light"
     },
     "output_type": "display_data"
    },
    {
     "data": {
      "image/png": "[encoded data removed]",
      "text/plain": [
       "<Figure size 432x288 with 1 Axes>"
      ]
     },
     "metadata": {
      "needs_background": "light"
     },
     "output_type": "display_data"
    },
    {
     "data": {
      "image/png": "[encoded data removed]",
      "text/plain": [
       "<Figure size 432x288 with 1 Axes>"
      ]
     },
     "metadata": {
      "needs_background": "light"
     },
     "output_type": "display_data"
    },
    {
     "data": {
      "image/png": "[encoded data removed]",
      "text/plain": [
       "<Figure size 432x288 with 1 Axes>"
      ]
     },
     "metadata": {
      "needs_background": "light"
     },
     "output_type": "display_data"
    },
    {
     "data": {
      "image/png": "[encoded data removed]",
      "text/plain": [
       "<Figure size 432x288 with 1 Axes>"
      ]
     },
     "metadata": {
      "needs_background": "light"
     },
     "output_type": "display_data"
    },
    {
     "data": {
      "image/png": "[encoded data removed]",
      "text/plain": [
       "<Figure size 432x288 with 1 Axes>"
      ]
     },
     "metadata": {
      "needs_background": "light"
     },
     "output_type": "display_data"
    },
    {
     "data": {
      "image/png": "[encoded data removed]",
      "text/plain": [
       "<Figure size 432x288 with 1 Axes>"
      ]
     },
     "metadata": {
      "needs_background": "light"
     },
     "output_type": "display_data"
    },
    {
     "data": {
      "image/png": "[encoded data removed]",
      "text/plain": [
       "<Figure size 432x288 with 1 Axes>"
      ]
     },
     "metadata": {
      "needs_background": "light"
     },
     "output_type": "display_data"
    },
    {
     "data": {
      "image/png": "[encoded data removed]",
      "text/plain": [
       "<Figure size 432x288 with 1 Axes>"
      ]
     },
     "metadata": {
      "needs_background": "light"
     },
     "output_type": "display_data"
    },
    {
     "data": {
      "image/png": "[encoded data removed]",
      "text/plain": [
       "<Figure size 432x288 with 1 Axes>"
      ]
     },
     "metadata": {
      "needs_background": "light"
     },
     "output_type": "display_data"
    },
    {
     "data": {
      "image/png": "[encoded data removed]",
      "text/plain": [
       "<Figure size 432x288 with 1 Axes>"
      ]
     },
     "metadata": {
      "needs_background": "light"
     },
     "output_type": "display_data"
    },
    {
     "data": {
      "image/png": "[encoded data removed]",
      "text/plain": [
       "<Figure size 432x288 with 1 Axes>"
      ]
     },
     "metadata": {
      "needs_background": "light"
     },
     "output_type": "display_data"
    },
    {
     "data": {
      "image/png": "[encoded data removed]",
      "text/plain": [
       "<Figure size 432x288 with 1 Axes>"
      ]
     },
     "metadata": {
      "needs_background": "light"
     },
     "output_type": "display_data"
    },
    {
     "data": {
      "image/png": "[encoded data removed]",
      "text/plain": [
       "<Figure size 432x288 with 1 Axes>"
      ]
     },
     "metadata": {
      "needs_background": "light"
     },
     "output_type": "display_data"
    },
    {
     "data": {
      "image/png": "[encoded data removed]",
      "text/plain": [
       "<Figure size 432x288 with 1 Axes>"
      ]
     },
     "metadata": {
      "needs_background": "light"
     },
     "output_type": "display_data"
    },
    {
     "data": {
      "image/png": "[encoded data removed]",
      "text/plain": [
       "<Figure size 432x288 with 1 Axes>"
      ]
     },
     "metadata": {
      "needs_background": "light"
     },
     "output_type": "display_data"
    },
    {
     "data": {
      "image/png": "[encoded data removed]",
      "text/plain": [
       "<Figure size 432x288 with 1 Axes>"
      ]
     },
     "metadata": {
      "needs_background": "light"
     },
     "output_type": "display_data"
    },
    {
     "data": {
      "image/png": "[encoded data removed]",
      "text/plain": [
       "<Figure size 432x288 with 1 Axes>"
      ]
     },
     "metadata": {
      "needs_background": "light"
     },
     "output_type": "display_data"
    },
    {
     "data": {
      "image/png": "[encoded data removed]",
      "text/plain": [
       "<Figure size 432x288 with 1 Axes>"
      ]
     },
     "metadata": {
      "needs_background": "light"
     },
     "output_type": "display_data"
    },
    {
     "data": {
      "image/png": "[encoded data removed]",
      "text/plain": [
       "<Figure size 432x288 with 1 Axes>"
      ]
     },
     "metadata": {
      "needs_background": "light"
     },
     "output_type": "display_data"
    }
   ],
   "source": [
    "import seaborn as sns\n",
    "for col in X.columns:\n",
    "    sns.boxplot(x=X[col],palette='pastel')\n",
    "    plt.show()"
   ]
  },
  {
   "cell_type": "code",
   "execution_count": 30,
   "metadata": {},
   "outputs": [
    {
     "data": {
      "text/html": [
       "<div>\n",
       "<style scoped>\n",
       "    .dataframe tbody tr th:only-of-type {\n",
       "        vertical-align: middle;\n",
       "    }\n",
       "\n",
       "    .dataframe tbody tr th {\n",
       "        vertical-align: top;\n",
       "    }\n",
       "\n",
       "    .dataframe thead th {\n",
       "        text-align: right;\n",
       "    }\n",
       "</style>\n",
       "<table border=\"1\" class=\"dataframe\">\n",
       "  <thead>\n",
       "    <tr style=\"text-align: right;\">\n",
       "      <th></th>\n",
       "      <th>LIMIT_BAL</th>\n",
       "      <th>SEX</th>\n",
       "      <th>EDUCATION</th>\n",
       "      <th>MARRIAGE</th>\n",
       "      <th>AGE</th>\n",
       "      <th>PAY_0</th>\n",
       "      <th>PAY_2</th>\n",
       "      <th>PAY_3</th>\n",
       "      <th>PAY_4</th>\n",
       "      <th>PAY_5</th>\n",
       "      <th>PAY_6</th>\n",
       "      <th>BILL_AMT1</th>\n",
       "      <th>BILL_AMT2</th>\n",
       "      <th>BILL_AMT3</th>\n",
       "      <th>BILL_AMT4</th>\n",
       "      <th>BILL_AMT5</th>\n",
       "      <th>BILL_AMT6</th>\n",
       "      <th>PAY_AMT1</th>\n",
       "      <th>PAY_AMT2</th>\n",
       "      <th>PAY_AMT3</th>\n",
       "      <th>PAY_AMT4</th>\n",
       "      <th>PAY_AMT5</th>\n",
       "      <th>PAY_AMT6</th>\n",
       "    </tr>\n",
       "  </thead>\n",
       "  <tbody>\n",
       "    <tr>\n",
       "      <th>25732</th>\n",
       "      <td>80000.0</td>\n",
       "      <td>0</td>\n",
       "      <td>1.0</td>\n",
       "      <td>1.0</td>\n",
       "      <td>37.0</td>\n",
       "      <td>0.0</td>\n",
       "      <td>0.0</td>\n",
       "      <td>-2.0</td>\n",
       "      <td>-2.0</td>\n",
       "      <td>-2.0</td>\n",
       "      <td>-1.0</td>\n",
       "      <td>47751.0</td>\n",
       "      <td>-215.0</td>\n",
       "      <td>855086.0</td>\n",
       "      <td>632.0</td>\n",
       "      <td>632.0</td>\n",
       "      <td>124542.0</td>\n",
       "      <td>215.0</td>\n",
       "      <td>1024516.0</td>\n",
       "      <td>632.0</td>\n",
       "      <td>632.0</td>\n",
       "      <td>124542.0</td>\n",
       "      <td>14770.0</td>\n",
       "    </tr>\n",
       "    <tr>\n",
       "      <th>5297</th>\n",
       "      <td>500000.0</td>\n",
       "      <td>0</td>\n",
       "      <td>3.0</td>\n",
       "      <td>1.0</td>\n",
       "      <td>33.0</td>\n",
       "      <td>-2.0</td>\n",
       "      <td>-2.0</td>\n",
       "      <td>-1.0</td>\n",
       "      <td>-1.0</td>\n",
       "      <td>-2.0</td>\n",
       "      <td>-1.0</td>\n",
       "      <td>125.0</td>\n",
       "      <td>-18088.0</td>\n",
       "      <td>1664089.0</td>\n",
       "      <td>121757.0</td>\n",
       "      <td>97115.0</td>\n",
       "      <td>377217.0</td>\n",
       "      <td>4366.0</td>\n",
       "      <td>1684259.0</td>\n",
       "      <td>121831.0</td>\n",
       "      <td>97670.0</td>\n",
       "      <td>379267.0</td>\n",
       "      <td>26759.0</td>\n",
       "    </tr>\n",
       "  </tbody>\n",
       "</table>\n",
       "</div>"
      ],
      "text/plain": [
       "       LIMIT_BAL  SEX  EDUCATION  MARRIAGE   AGE  PAY_0  PAY_2  PAY_3  PAY_4  \\\n",
       "25732    80000.0    0        1.0       1.0  37.0    0.0    0.0   -2.0   -2.0   \n",
       "5297    500000.0    0        3.0       1.0  33.0   -2.0   -2.0   -1.0   -1.0   \n",
       "\n",
       "       PAY_5  PAY_6  BILL_AMT1  BILL_AMT2  BILL_AMT3  BILL_AMT4  BILL_AMT5  \\\n",
       "25732   -2.0   -1.0    47751.0     -215.0   855086.0      632.0      632.0   \n",
       "5297    -2.0   -1.0      125.0   -18088.0  1664089.0   121757.0    97115.0   \n",
       "\n",
       "       BILL_AMT6  PAY_AMT1   PAY_AMT2  PAY_AMT3  PAY_AMT4  PAY_AMT5  PAY_AMT6  \n",
       "25732   124542.0     215.0  1024516.0     632.0     632.0  124542.0   14770.0  \n",
       "5297    377217.0    4366.0  1684259.0  121831.0   97670.0  379267.0   26759.0  "
      ]
     },
     "execution_count": 30,
     "metadata": {},
     "output_type": "execute_result"
    }
   ],
   "source": [
    "pd.set_option('display.max_columns', 100)\n",
    "X[X.BILL_AMT3>800000]"
   ]
  },
  {
   "cell_type": "markdown",
   "metadata": {},
   "source": [
    "## 2. EDA"
   ]
  },
  {
   "cell_type": "code",
   "execution_count": 31,
   "metadata": {
    "scrolled": true
   },
   "outputs": [],
   "source": [
    "#sns.pairplot(X)"
   ]
  },
  {
   "cell_type": "code",
   "execution_count": 32,
   "metadata": {},
   "outputs": [
    {
     "data": {
      "text/plain": [
       "<matplotlib.axes._subplots.AxesSubplot at 0x7fd3d44d3810>"
      ]
     },
     "execution_count": 32,
     "metadata": {},
     "output_type": "execute_result"
    },
    {
     "data": {
      "image/png": "[encoded data removed]",
      "text/plain": [
       "<Figure size 792x648 with 2 Axes>"
      ]
     },
     "metadata": {},
     "output_type": "display_data"
    }
   ],
   "source": [
    "sns.set(style=\"white\")\n",
    "# Compute the correlation matrix\n",
    "corr = X.corr()\n",
    "# Generate a mask for the upper triangle\n",
    "mask = np.zeros_like(corr, dtype=np.bool)\n",
    "mask[np.triu_indices_from(mask)] = True\n",
    "# Set up the matplotlib figure\n",
    "f, ax = plt.subplots(figsize=(11, 9))\n",
    "# Generate a custom diverging colormap\n",
    "cmap = sns.diverging_palette(220, 10, as_cmap=True)\n",
    "# Draw the heatmap with the mask and correct aspect ratio\n",
    "sns.heatmap(corr, mask=mask, cmap=cmap, vmax=1, center=0,\n",
    "            square=True, linewidths=.5, cbar_kws={\"shrink\": .5})"
   ]
  },
  {
   "cell_type": "code",
   "execution_count": 33,
   "metadata": {
    "scrolled": true
   },
   "outputs": [
    {
     "data": {
      "text/html": [
       "<div>\n",
       "<style scoped>\n",
       "    .dataframe tbody tr th:only-of-type {\n",
       "        vertical-align: middle;\n",
       "    }\n",
       "\n",
       "    .dataframe tbody tr th {\n",
       "        vertical-align: top;\n",
       "    }\n",
       "\n",
       "    .dataframe thead th {\n",
       "        text-align: right;\n",
       "    }\n",
       "</style>\n",
       "<table border=\"1\" class=\"dataframe\">\n",
       "  <thead>\n",
       "    <tr style=\"text-align: right;\">\n",
       "      <th></th>\n",
       "      <th>LIMIT_BAL</th>\n",
       "      <th>SEX</th>\n",
       "      <th>EDUCATION</th>\n",
       "      <th>MARRIAGE</th>\n",
       "      <th>AGE</th>\n",
       "      <th>PAY_0</th>\n",
       "      <th>PAY_2</th>\n",
       "      <th>PAY_3</th>\n",
       "      <th>PAY_4</th>\n",
       "      <th>PAY_5</th>\n",
       "      <th>PAY_6</th>\n",
       "      <th>BILL_AMT1</th>\n",
       "      <th>BILL_AMT2</th>\n",
       "      <th>BILL_AMT3</th>\n",
       "      <th>BILL_AMT4</th>\n",
       "      <th>BILL_AMT5</th>\n",
       "      <th>BILL_AMT6</th>\n",
       "      <th>PAY_AMT1</th>\n",
       "      <th>PAY_AMT2</th>\n",
       "      <th>PAY_AMT3</th>\n",
       "      <th>PAY_AMT4</th>\n",
       "      <th>PAY_AMT5</th>\n",
       "      <th>PAY_AMT6</th>\n",
       "    </tr>\n",
       "  </thead>\n",
       "  <tbody>\n",
       "    <tr>\n",
       "      <th>LIMIT_BAL</th>\n",
       "      <td>1.000000</td>\n",
       "      <td>-0.021080</td>\n",
       "      <td>0.235655</td>\n",
       "      <td>-0.074567</td>\n",
       "      <td>0.146964</td>\n",
       "      <td>-0.265951</td>\n",
       "      <td>-0.291882</td>\n",
       "      <td>-0.280722</td>\n",
       "      <td>-0.260983</td>\n",
       "      <td>-0.244000</td>\n",
       "      <td>-0.228850</td>\n",
       "      <td>0.295659</td>\n",
       "      <td>0.288841</td>\n",
       "      <td>0.288696</td>\n",
       "      <td>0.299262</td>\n",
       "      <td>0.299236</td>\n",
       "      <td>0.294636</td>\n",
       "      <td>0.196075</td>\n",
       "      <td>0.165682</td>\n",
       "      <td>0.211372</td>\n",
       "      <td>0.199648</td>\n",
       "      <td>0.216146</td>\n",
       "      <td>0.224594</td>\n",
       "    </tr>\n",
       "    <tr>\n",
       "      <th>SEX</th>\n",
       "      <td>-0.021080</td>\n",
       "      <td>1.000000</td>\n",
       "      <td>0.014108</td>\n",
       "      <td>0.028922</td>\n",
       "      <td>0.093937</td>\n",
       "      <td>0.055309</td>\n",
       "      <td>0.065135</td>\n",
       "      <td>0.060850</td>\n",
       "      <td>0.054413</td>\n",
       "      <td>0.049838</td>\n",
       "      <td>0.038452</td>\n",
       "      <td>0.037009</td>\n",
       "      <td>0.032141</td>\n",
       "      <td>0.025418</td>\n",
       "      <td>0.020942</td>\n",
       "      <td>0.016267</td>\n",
       "      <td>0.016368</td>\n",
       "      <td>-0.004579</td>\n",
       "      <td>0.000655</td>\n",
       "      <td>0.006248</td>\n",
       "      <td>-0.000075</td>\n",
       "      <td>-0.000469</td>\n",
       "      <td>0.001997</td>\n",
       "    </tr>\n",
       "    <tr>\n",
       "      <th>EDUCATION</th>\n",
       "      <td>0.235655</td>\n",
       "      <td>0.014108</td>\n",
       "      <td>1.000000</td>\n",
       "      <td>0.182534</td>\n",
       "      <td>-0.180827</td>\n",
       "      <td>-0.114701</td>\n",
       "      <td>-0.132742</td>\n",
       "      <td>-0.122839</td>\n",
       "      <td>-0.118417</td>\n",
       "      <td>-0.103403</td>\n",
       "      <td>-0.090248</td>\n",
       "      <td>-0.012231</td>\n",
       "      <td>-0.007064</td>\n",
       "      <td>-0.003234</td>\n",
       "      <td>0.009284</td>\n",
       "      <td>0.015593</td>\n",
       "      <td>0.016725</td>\n",
       "      <td>0.041572</td>\n",
       "      <td>0.032531</td>\n",
       "      <td>0.044643</td>\n",
       "      <td>0.047210</td>\n",
       "      <td>0.046910</td>\n",
       "      <td>0.046576</td>\n",
       "    </tr>\n",
       "    <tr>\n",
       "      <th>MARRIAGE</th>\n",
       "      <td>-0.074567</td>\n",
       "      <td>0.028922</td>\n",
       "      <td>0.182534</td>\n",
       "      <td>1.000000</td>\n",
       "      <td>-0.462771</td>\n",
       "      <td>0.005405</td>\n",
       "      <td>0.015744</td>\n",
       "      <td>0.024910</td>\n",
       "      <td>0.027380</td>\n",
       "      <td>0.033577</td>\n",
       "      <td>0.026316</td>\n",
       "      <td>-0.021008</td>\n",
       "      <td>-0.017120</td>\n",
       "      <td>-0.018502</td>\n",
       "      <td>-0.012496</td>\n",
       "      <td>-0.012230</td>\n",
       "      <td>-0.010530</td>\n",
       "      <td>-0.007186</td>\n",
       "      <td>-0.013012</td>\n",
       "      <td>-0.006624</td>\n",
       "      <td>-0.010904</td>\n",
       "      <td>-0.005524</td>\n",
       "      <td>0.000515</td>\n",
       "    </tr>\n",
       "    <tr>\n",
       "      <th>AGE</th>\n",
       "      <td>0.146964</td>\n",
       "      <td>0.093937</td>\n",
       "      <td>-0.180827</td>\n",
       "      <td>-0.462771</td>\n",
       "      <td>1.000000</td>\n",
       "      <td>-0.032549</td>\n",
       "      <td>-0.045748</td>\n",
       "      <td>-0.054225</td>\n",
       "      <td>-0.047994</td>\n",
       "      <td>-0.053844</td>\n",
       "      <td>-0.046720</td>\n",
       "      <td>0.058995</td>\n",
       "      <td>0.056343</td>\n",
       "      <td>0.055082</td>\n",
       "      <td>0.052860</td>\n",
       "      <td>0.051109</td>\n",
       "      <td>0.048705</td>\n",
       "      <td>0.026827</td>\n",
       "      <td>0.019959</td>\n",
       "      <td>0.030200</td>\n",
       "      <td>0.018125</td>\n",
       "      <td>0.023779</td>\n",
       "      <td>0.019674</td>\n",
       "    </tr>\n",
       "    <tr>\n",
       "      <th>PAY_0</th>\n",
       "      <td>-0.265951</td>\n",
       "      <td>0.055309</td>\n",
       "      <td>-0.114701</td>\n",
       "      <td>0.005405</td>\n",
       "      <td>-0.032549</td>\n",
       "      <td>1.000000</td>\n",
       "      <td>0.671159</td>\n",
       "      <td>0.572739</td>\n",
       "      <td>0.538345</td>\n",
       "      <td>0.510631</td>\n",
       "      <td>0.477583</td>\n",
       "      <td>0.186982</td>\n",
       "      <td>0.188355</td>\n",
       "      <td>0.179142</td>\n",
       "      <td>0.178962</td>\n",
       "      <td>0.181735</td>\n",
       "      <td>0.177287</td>\n",
       "      <td>-0.082487</td>\n",
       "      <td>-0.068540</td>\n",
       "      <td>-0.068790</td>\n",
       "      <td>-0.060425</td>\n",
       "      <td>-0.059418</td>\n",
       "      <td>-0.063257</td>\n",
       "    </tr>\n",
       "    <tr>\n",
       "      <th>PAY_2</th>\n",
       "      <td>-0.291882</td>\n",
       "      <td>0.065135</td>\n",
       "      <td>-0.132742</td>\n",
       "      <td>0.015744</td>\n",
       "      <td>-0.045748</td>\n",
       "      <td>0.671159</td>\n",
       "      <td>1.000000</td>\n",
       "      <td>0.765691</td>\n",
       "      <td>0.660958</td>\n",
       "      <td>0.621214</td>\n",
       "      <td>0.573809</td>\n",
       "      <td>0.231604</td>\n",
       "      <td>0.231139</td>\n",
       "      <td>0.221101</td>\n",
       "      <td>0.220565</td>\n",
       "      <td>0.221136</td>\n",
       "      <td>0.218439</td>\n",
       "      <td>-0.081038</td>\n",
       "      <td>-0.057079</td>\n",
       "      <td>-0.053981</td>\n",
       "      <td>-0.043681</td>\n",
       "      <td>-0.036044</td>\n",
       "      <td>-0.042905</td>\n",
       "    </tr>\n",
       "    <tr>\n",
       "      <th>PAY_3</th>\n",
       "      <td>-0.280722</td>\n",
       "      <td>0.060850</td>\n",
       "      <td>-0.122839</td>\n",
       "      <td>0.024910</td>\n",
       "      <td>-0.054225</td>\n",
       "      <td>0.572739</td>\n",
       "      <td>0.765691</td>\n",
       "      <td>1.000000</td>\n",
       "      <td>0.778805</td>\n",
       "      <td>0.684434</td>\n",
       "      <td>0.631855</td>\n",
       "      <td>0.203261</td>\n",
       "      <td>0.230221</td>\n",
       "      <td>0.222191</td>\n",
       "      <td>0.222899</td>\n",
       "      <td>0.221647</td>\n",
       "      <td>0.217789</td>\n",
       "      <td>-0.004954</td>\n",
       "      <td>-0.064132</td>\n",
       "      <td>-0.053470</td>\n",
       "      <td>-0.044234</td>\n",
       "      <td>-0.038854</td>\n",
       "      <td>-0.040017</td>\n",
       "    </tr>\n",
       "    <tr>\n",
       "      <th>PAY_4</th>\n",
       "      <td>-0.260983</td>\n",
       "      <td>0.054413</td>\n",
       "      <td>-0.118417</td>\n",
       "      <td>0.027380</td>\n",
       "      <td>-0.047994</td>\n",
       "      <td>0.538345</td>\n",
       "      <td>0.660958</td>\n",
       "      <td>0.778805</td>\n",
       "      <td>1.000000</td>\n",
       "      <td>0.819092</td>\n",
       "      <td>0.720739</td>\n",
       "      <td>0.200126</td>\n",
       "      <td>0.222057</td>\n",
       "      <td>0.241753</td>\n",
       "      <td>0.244126</td>\n",
       "      <td>0.242805</td>\n",
       "      <td>0.238121</td>\n",
       "      <td>-0.012978</td>\n",
       "      <td>-0.003251</td>\n",
       "      <td>-0.067676</td>\n",
       "      <td>-0.042180</td>\n",
       "      <td>-0.034109</td>\n",
       "      <td>-0.029826</td>\n",
       "    </tr>\n",
       "    <tr>\n",
       "      <th>PAY_5</th>\n",
       "      <td>-0.244000</td>\n",
       "      <td>0.049838</td>\n",
       "      <td>-0.103403</td>\n",
       "      <td>0.033577</td>\n",
       "      <td>-0.053844</td>\n",
       "      <td>0.510631</td>\n",
       "      <td>0.621214</td>\n",
       "      <td>0.684434</td>\n",
       "      <td>0.819092</td>\n",
       "      <td>1.000000</td>\n",
       "      <td>0.818435</td>\n",
       "      <td>0.205467</td>\n",
       "      <td>0.224577</td>\n",
       "      <td>0.241101</td>\n",
       "      <td>0.269734</td>\n",
       "      <td>0.269920</td>\n",
       "      <td>0.261551</td>\n",
       "      <td>-0.007966</td>\n",
       "      <td>-0.004002</td>\n",
       "      <td>0.006254</td>\n",
       "      <td>-0.054622</td>\n",
       "      <td>-0.033975</td>\n",
       "      <td>-0.026139</td>\n",
       "    </tr>\n",
       "    <tr>\n",
       "      <th>PAY_6</th>\n",
       "      <td>-0.228850</td>\n",
       "      <td>0.038452</td>\n",
       "      <td>-0.090248</td>\n",
       "      <td>0.026316</td>\n",
       "      <td>-0.046720</td>\n",
       "      <td>0.477583</td>\n",
       "      <td>0.573809</td>\n",
       "      <td>0.631855</td>\n",
       "      <td>0.720739</td>\n",
       "      <td>0.818435</td>\n",
       "      <td>1.000000</td>\n",
       "      <td>0.203611</td>\n",
       "      <td>0.222908</td>\n",
       "      <td>0.237457</td>\n",
       "      <td>0.263947</td>\n",
       "      <td>0.289687</td>\n",
       "      <td>0.283009</td>\n",
       "      <td>-0.003083</td>\n",
       "      <td>-0.004038</td>\n",
       "      <td>0.004141</td>\n",
       "      <td>0.020229</td>\n",
       "      <td>-0.046146</td>\n",
       "      <td>-0.029433</td>\n",
       "    </tr>\n",
       "    <tr>\n",
       "      <th>BILL_AMT1</th>\n",
       "      <td>0.295659</td>\n",
       "      <td>0.037009</td>\n",
       "      <td>-0.012231</td>\n",
       "      <td>-0.021008</td>\n",
       "      <td>0.058995</td>\n",
       "      <td>0.186982</td>\n",
       "      <td>0.231604</td>\n",
       "      <td>0.203261</td>\n",
       "      <td>0.200126</td>\n",
       "      <td>0.205467</td>\n",
       "      <td>0.203611</td>\n",
       "      <td>1.000000</td>\n",
       "      <td>0.954453</td>\n",
       "      <td>0.892254</td>\n",
       "      <td>0.864993</td>\n",
       "      <td>0.835076</td>\n",
       "      <td>0.805479</td>\n",
       "      <td>0.148222</td>\n",
       "      <td>0.095717</td>\n",
       "      <td>0.166570</td>\n",
       "      <td>0.161754</td>\n",
       "      <td>0.174668</td>\n",
       "      <td>0.172586</td>\n",
       "    </tr>\n",
       "    <tr>\n",
       "      <th>BILL_AMT2</th>\n",
       "      <td>0.288841</td>\n",
       "      <td>0.032141</td>\n",
       "      <td>-0.007064</td>\n",
       "      <td>-0.017120</td>\n",
       "      <td>0.056343</td>\n",
       "      <td>0.188355</td>\n",
       "      <td>0.231139</td>\n",
       "      <td>0.230221</td>\n",
       "      <td>0.222057</td>\n",
       "      <td>0.224577</td>\n",
       "      <td>0.222908</td>\n",
       "      <td>0.954453</td>\n",
       "      <td>1.000000</td>\n",
       "      <td>0.924654</td>\n",
       "      <td>0.893372</td>\n",
       "      <td>0.860374</td>\n",
       "      <td>0.830698</td>\n",
       "      <td>0.278827</td>\n",
       "      <td>0.099033</td>\n",
       "      <td>0.159873</td>\n",
       "      <td>0.150938</td>\n",
       "      <td>0.162069</td>\n",
       "      <td>0.170157</td>\n",
       "    </tr>\n",
       "    <tr>\n",
       "      <th>BILL_AMT3</th>\n",
       "      <td>0.288696</td>\n",
       "      <td>0.025418</td>\n",
       "      <td>-0.003234</td>\n",
       "      <td>-0.018502</td>\n",
       "      <td>0.055082</td>\n",
       "      <td>0.179142</td>\n",
       "      <td>0.221101</td>\n",
       "      <td>0.222191</td>\n",
       "      <td>0.241753</td>\n",
       "      <td>0.241101</td>\n",
       "      <td>0.237457</td>\n",
       "      <td>0.892254</td>\n",
       "      <td>0.924654</td>\n",
       "      <td>1.000000</td>\n",
       "      <td>0.921288</td>\n",
       "      <td>0.881543</td>\n",
       "      <td>0.850451</td>\n",
       "      <td>0.234043</td>\n",
       "      <td>0.318260</td>\n",
       "      <td>0.136266</td>\n",
       "      <td>0.145508</td>\n",
       "      <td>0.181863</td>\n",
       "      <td>0.180267</td>\n",
       "    </tr>\n",
       "    <tr>\n",
       "      <th>BILL_AMT4</th>\n",
       "      <td>0.299262</td>\n",
       "      <td>0.020942</td>\n",
       "      <td>0.009284</td>\n",
       "      <td>-0.012496</td>\n",
       "      <td>0.052860</td>\n",
       "      <td>0.178962</td>\n",
       "      <td>0.220565</td>\n",
       "      <td>0.222899</td>\n",
       "      <td>0.244126</td>\n",
       "      <td>0.269734</td>\n",
       "      <td>0.263947</td>\n",
       "      <td>0.864993</td>\n",
       "      <td>0.893372</td>\n",
       "      <td>0.921288</td>\n",
       "      <td>1.000000</td>\n",
       "      <td>0.941872</td>\n",
       "      <td>0.900720</td>\n",
       "      <td>0.220283</td>\n",
       "      <td>0.192126</td>\n",
       "      <td>0.301143</td>\n",
       "      <td>0.140440</td>\n",
       "      <td>0.159645</td>\n",
       "      <td>0.176341</td>\n",
       "    </tr>\n",
       "    <tr>\n",
       "      <th>BILL_AMT5</th>\n",
       "      <td>0.299236</td>\n",
       "      <td>0.016267</td>\n",
       "      <td>0.015593</td>\n",
       "      <td>-0.012230</td>\n",
       "      <td>0.051109</td>\n",
       "      <td>0.181735</td>\n",
       "      <td>0.221136</td>\n",
       "      <td>0.221647</td>\n",
       "      <td>0.242805</td>\n",
       "      <td>0.269920</td>\n",
       "      <td>0.289687</td>\n",
       "      <td>0.835076</td>\n",
       "      <td>0.860374</td>\n",
       "      <td>0.881543</td>\n",
       "      <td>0.941872</td>\n",
       "      <td>1.000000</td>\n",
       "      <td>0.944915</td>\n",
       "      <td>0.201606</td>\n",
       "      <td>0.168691</td>\n",
       "      <td>0.254648</td>\n",
       "      <td>0.298433</td>\n",
       "      <td>0.136757</td>\n",
       "      <td>0.158456</td>\n",
       "    </tr>\n",
       "    <tr>\n",
       "      <th>BILL_AMT6</th>\n",
       "      <td>0.294636</td>\n",
       "      <td>0.016368</td>\n",
       "      <td>0.016725</td>\n",
       "      <td>-0.010530</td>\n",
       "      <td>0.048705</td>\n",
       "      <td>0.177287</td>\n",
       "      <td>0.218439</td>\n",
       "      <td>0.217789</td>\n",
       "      <td>0.238121</td>\n",
       "      <td>0.261551</td>\n",
       "      <td>0.283009</td>\n",
       "      <td>0.805479</td>\n",
       "      <td>0.830698</td>\n",
       "      <td>0.850451</td>\n",
       "      <td>0.900720</td>\n",
       "      <td>0.944915</td>\n",
       "      <td>1.000000</td>\n",
       "      <td>0.188068</td>\n",
       "      <td>0.165353</td>\n",
       "      <td>0.236850</td>\n",
       "      <td>0.257658</td>\n",
       "      <td>0.308170</td>\n",
       "      <td>0.106208</td>\n",
       "    </tr>\n",
       "    <tr>\n",
       "      <th>PAY_AMT1</th>\n",
       "      <td>0.196075</td>\n",
       "      <td>-0.004579</td>\n",
       "      <td>0.041572</td>\n",
       "      <td>-0.007186</td>\n",
       "      <td>0.026827</td>\n",
       "      <td>-0.082487</td>\n",
       "      <td>-0.081038</td>\n",
       "      <td>-0.004954</td>\n",
       "      <td>-0.012978</td>\n",
       "      <td>-0.007966</td>\n",
       "      <td>-0.003083</td>\n",
       "      <td>0.148222</td>\n",
       "      <td>0.278827</td>\n",
       "      <td>0.234043</td>\n",
       "      <td>0.220283</td>\n",
       "      <td>0.201606</td>\n",
       "      <td>0.188068</td>\n",
       "      <td>1.000000</td>\n",
       "      <td>0.301340</td>\n",
       "      <td>0.280112</td>\n",
       "      <td>0.227299</td>\n",
       "      <td>0.134775</td>\n",
       "      <td>0.199788</td>\n",
       "    </tr>\n",
       "    <tr>\n",
       "      <th>PAY_AMT2</th>\n",
       "      <td>0.165682</td>\n",
       "      <td>0.000655</td>\n",
       "      <td>0.032531</td>\n",
       "      <td>-0.013012</td>\n",
       "      <td>0.019959</td>\n",
       "      <td>-0.068540</td>\n",
       "      <td>-0.057079</td>\n",
       "      <td>-0.064132</td>\n",
       "      <td>-0.003251</td>\n",
       "      <td>-0.004002</td>\n",
       "      <td>-0.004038</td>\n",
       "      <td>0.095717</td>\n",
       "      <td>0.099033</td>\n",
       "      <td>0.318260</td>\n",
       "      <td>0.192126</td>\n",
       "      <td>0.168691</td>\n",
       "      <td>0.165353</td>\n",
       "      <td>0.301340</td>\n",
       "      <td>1.000000</td>\n",
       "      <td>0.263173</td>\n",
       "      <td>0.194210</td>\n",
       "      <td>0.177182</td>\n",
       "      <td>0.160517</td>\n",
       "    </tr>\n",
       "    <tr>\n",
       "      <th>PAY_AMT3</th>\n",
       "      <td>0.211372</td>\n",
       "      <td>0.006248</td>\n",
       "      <td>0.044643</td>\n",
       "      <td>-0.006624</td>\n",
       "      <td>0.030200</td>\n",
       "      <td>-0.068790</td>\n",
       "      <td>-0.053981</td>\n",
       "      <td>-0.053470</td>\n",
       "      <td>-0.067676</td>\n",
       "      <td>0.006254</td>\n",
       "      <td>0.004141</td>\n",
       "      <td>0.166570</td>\n",
       "      <td>0.159873</td>\n",
       "      <td>0.136266</td>\n",
       "      <td>0.301143</td>\n",
       "      <td>0.254648</td>\n",
       "      <td>0.236850</td>\n",
       "      <td>0.280112</td>\n",
       "      <td>0.263173</td>\n",
       "      <td>1.000000</td>\n",
       "      <td>0.235817</td>\n",
       "      <td>0.164954</td>\n",
       "      <td>0.165994</td>\n",
       "    </tr>\n",
       "    <tr>\n",
       "      <th>PAY_AMT4</th>\n",
       "      <td>0.199648</td>\n",
       "      <td>-0.000075</td>\n",
       "      <td>0.047210</td>\n",
       "      <td>-0.010904</td>\n",
       "      <td>0.018125</td>\n",
       "      <td>-0.060425</td>\n",
       "      <td>-0.043681</td>\n",
       "      <td>-0.044234</td>\n",
       "      <td>-0.042180</td>\n",
       "      <td>-0.054622</td>\n",
       "      <td>0.020229</td>\n",
       "      <td>0.161754</td>\n",
       "      <td>0.150938</td>\n",
       "      <td>0.145508</td>\n",
       "      <td>0.140440</td>\n",
       "      <td>0.298433</td>\n",
       "      <td>0.257658</td>\n",
       "      <td>0.227299</td>\n",
       "      <td>0.194210</td>\n",
       "      <td>0.235817</td>\n",
       "      <td>1.000000</td>\n",
       "      <td>0.160718</td>\n",
       "      <td>0.158066</td>\n",
       "    </tr>\n",
       "    <tr>\n",
       "      <th>PAY_AMT5</th>\n",
       "      <td>0.216146</td>\n",
       "      <td>-0.000469</td>\n",
       "      <td>0.046910</td>\n",
       "      <td>-0.005524</td>\n",
       "      <td>0.023779</td>\n",
       "      <td>-0.059418</td>\n",
       "      <td>-0.036044</td>\n",
       "      <td>-0.038854</td>\n",
       "      <td>-0.034109</td>\n",
       "      <td>-0.033975</td>\n",
       "      <td>-0.046146</td>\n",
       "      <td>0.174668</td>\n",
       "      <td>0.162069</td>\n",
       "      <td>0.181863</td>\n",
       "      <td>0.159645</td>\n",
       "      <td>0.136757</td>\n",
       "      <td>0.308170</td>\n",
       "      <td>0.134775</td>\n",
       "      <td>0.177182</td>\n",
       "      <td>0.164954</td>\n",
       "      <td>0.160718</td>\n",
       "      <td>1.000000</td>\n",
       "      <td>0.157330</td>\n",
       "    </tr>\n",
       "    <tr>\n",
       "      <th>PAY_AMT6</th>\n",
       "      <td>0.224594</td>\n",
       "      <td>0.001997</td>\n",
       "      <td>0.046576</td>\n",
       "      <td>0.000515</td>\n",
       "      <td>0.019674</td>\n",
       "      <td>-0.063257</td>\n",
       "      <td>-0.042905</td>\n",
       "      <td>-0.040017</td>\n",
       "      <td>-0.029826</td>\n",
       "      <td>-0.026139</td>\n",
       "      <td>-0.029433</td>\n",
       "      <td>0.172586</td>\n",
       "      <td>0.170157</td>\n",
       "      <td>0.180267</td>\n",
       "      <td>0.176341</td>\n",
       "      <td>0.158456</td>\n",
       "      <td>0.106208</td>\n",
       "      <td>0.199788</td>\n",
       "      <td>0.160517</td>\n",
       "      <td>0.165994</td>\n",
       "      <td>0.158066</td>\n",
       "      <td>0.157330</td>\n",
       "      <td>1.000000</td>\n",
       "    </tr>\n",
       "  </tbody>\n",
       "</table>\n",
       "</div>"
      ],
      "text/plain": [
       "           LIMIT_BAL       SEX  EDUCATION  MARRIAGE       AGE     PAY_0  \\\n",
       "LIMIT_BAL   1.000000 -0.021080   0.235655 -0.074567  0.146964 -0.265951   \n",
       "SEX        -0.021080  1.000000   0.014108  0.028922  0.093937  0.055309   \n",
       "EDUCATION   0.235655  0.014108   1.000000  0.182534 -0.180827 -0.114701   \n",
       "MARRIAGE   -0.074567  0.028922   0.182534  1.000000 -0.462771  0.005405   \n",
       "AGE         0.146964  0.093937  -0.180827 -0.462771  1.000000 -0.032549   \n",
       "PAY_0      -0.265951  0.055309  -0.114701  0.005405 -0.032549  1.000000   \n",
       "PAY_2      -0.291882  0.065135  -0.132742  0.015744 -0.045748  0.671159   \n",
       "PAY_3      -0.280722  0.060850  -0.122839  0.024910 -0.054225  0.572739   \n",
       "PAY_4      -0.260983  0.054413  -0.118417  0.027380 -0.047994  0.538345   \n",
       "PAY_5      -0.244000  0.049838  -0.103403  0.033577 -0.053844  0.510631   \n",
       "PAY_6      -0.228850  0.038452  -0.090248  0.026316 -0.046720  0.477583   \n",
       "BILL_AMT1   0.295659  0.037009  -0.012231 -0.021008  0.058995  0.186982   \n",
       "BILL_AMT2   0.288841  0.032141  -0.007064 -0.017120  0.056343  0.188355   \n",
       "BILL_AMT3   0.288696  0.025418  -0.003234 -0.018502  0.055082  0.179142   \n",
       "BILL_AMT4   0.299262  0.020942   0.009284 -0.012496  0.052860  0.178962   \n",
       "BILL_AMT5   0.299236  0.016267   0.015593 -0.012230  0.051109  0.181735   \n",
       "BILL_AMT6   0.294636  0.016368   0.016725 -0.010530  0.048705  0.177287   \n",
       "PAY_AMT1    0.196075 -0.004579   0.041572 -0.007186  0.026827 -0.082487   \n",
       "PAY_AMT2    0.165682  0.000655   0.032531 -0.013012  0.019959 -0.068540   \n",
       "PAY_AMT3    0.211372  0.006248   0.044643 -0.006624  0.030200 -0.068790   \n",
       "PAY_AMT4    0.199648 -0.000075   0.047210 -0.010904  0.018125 -0.060425   \n",
       "PAY_AMT5    0.216146 -0.000469   0.046910 -0.005524  0.023779 -0.059418   \n",
       "PAY_AMT6    0.224594  0.001997   0.046576  0.000515  0.019674 -0.063257   \n",
       "\n",
       "              PAY_2     PAY_3     PAY_4     PAY_5     PAY_6  BILL_AMT1  \\\n",
       "LIMIT_BAL -0.291882 -0.280722 -0.260983 -0.244000 -0.228850   0.295659   \n",
       "SEX        0.065135  0.060850  0.054413  0.049838  0.038452   0.037009   \n",
       "EDUCATION -0.132742 -0.122839 -0.118417 -0.103403 -0.090248  -0.012231   \n",
       "MARRIAGE   0.015744  0.024910  0.027380  0.033577  0.026316  -0.021008   \n",
       "AGE       -0.045748 -0.054225 -0.047994 -0.053844 -0.046720   0.058995   \n",
       "PAY_0      0.671159  0.572739  0.538345  0.510631  0.477583   0.186982   \n",
       "PAY_2      1.000000  0.765691  0.660958  0.621214  0.573809   0.231604   \n",
       "PAY_3      0.765691  1.000000  0.778805  0.684434  0.631855   0.203261   \n",
       "PAY_4      0.660958  0.778805  1.000000  0.819092  0.720739   0.200126   \n",
       "PAY_5      0.621214  0.684434  0.819092  1.000000  0.818435   0.205467   \n",
       "PAY_6      0.573809  0.631855  0.720739  0.818435  1.000000   0.203611   \n",
       "BILL_AMT1  0.231604  0.203261  0.200126  0.205467  0.203611   1.000000   \n",
       "BILL_AMT2  0.231139  0.230221  0.222057  0.224577  0.222908   0.954453   \n",
       "BILL_AMT3  0.221101  0.222191  0.241753  0.241101  0.237457   0.892254   \n",
       "BILL_AMT4  0.220565  0.222899  0.244126  0.269734  0.263947   0.864993   \n",
       "BILL_AMT5  0.221136  0.221647  0.242805  0.269920  0.289687   0.835076   \n",
       "BILL_AMT6  0.218439  0.217789  0.238121  0.261551  0.283009   0.805479   \n",
       "PAY_AMT1  -0.081038 -0.004954 -0.012978 -0.007966 -0.003083   0.148222   \n",
       "PAY_AMT2  -0.057079 -0.064132 -0.003251 -0.004002 -0.004038   0.095717   \n",
       "PAY_AMT3  -0.053981 -0.053470 -0.067676  0.006254  0.004141   0.166570   \n",
       "PAY_AMT4  -0.043681 -0.044234 -0.042180 -0.054622  0.020229   0.161754   \n",
       "PAY_AMT5  -0.036044 -0.038854 -0.034109 -0.033975 -0.046146   0.174668   \n",
       "PAY_AMT6  -0.042905 -0.040017 -0.029826 -0.026139 -0.029433   0.172586   \n",
       "\n",
       "           BILL_AMT2  BILL_AMT3  BILL_AMT4  BILL_AMT5  BILL_AMT6  PAY_AMT1  \\\n",
       "LIMIT_BAL   0.288841   0.288696   0.299262   0.299236   0.294636  0.196075   \n",
       "SEX         0.032141   0.025418   0.020942   0.016267   0.016368 -0.004579   \n",
       "EDUCATION  -0.007064  -0.003234   0.009284   0.015593   0.016725  0.041572   \n",
       "MARRIAGE   -0.017120  -0.018502  -0.012496  -0.012230  -0.010530 -0.007186   \n",
       "AGE         0.056343   0.055082   0.052860   0.051109   0.048705  0.026827   \n",
       "PAY_0       0.188355   0.179142   0.178962   0.181735   0.177287 -0.082487   \n",
       "PAY_2       0.231139   0.221101   0.220565   0.221136   0.218439 -0.081038   \n",
       "PAY_3       0.230221   0.222191   0.222899   0.221647   0.217789 -0.004954   \n",
       "PAY_4       0.222057   0.241753   0.244126   0.242805   0.238121 -0.012978   \n",
       "PAY_5       0.224577   0.241101   0.269734   0.269920   0.261551 -0.007966   \n",
       "PAY_6       0.222908   0.237457   0.263947   0.289687   0.283009 -0.003083   \n",
       "BILL_AMT1   0.954453   0.892254   0.864993   0.835076   0.805479  0.148222   \n",
       "BILL_AMT2   1.000000   0.924654   0.893372   0.860374   0.830698  0.278827   \n",
       "BILL_AMT3   0.924654   1.000000   0.921288   0.881543   0.850451  0.234043   \n",
       "BILL_AMT4   0.893372   0.921288   1.000000   0.941872   0.900720  0.220283   \n",
       "BILL_AMT5   0.860374   0.881543   0.941872   1.000000   0.944915  0.201606   \n",
       "BILL_AMT6   0.830698   0.850451   0.900720   0.944915   1.000000  0.188068   \n",
       "PAY_AMT1    0.278827   0.234043   0.220283   0.201606   0.188068  1.000000   \n",
       "PAY_AMT2    0.099033   0.318260   0.192126   0.168691   0.165353  0.301340   \n",
       "PAY_AMT3    0.159873   0.136266   0.301143   0.254648   0.236850  0.280112   \n",
       "PAY_AMT4    0.150938   0.145508   0.140440   0.298433   0.257658  0.227299   \n",
       "PAY_AMT5    0.162069   0.181863   0.159645   0.136757   0.308170  0.134775   \n",
       "PAY_AMT6    0.170157   0.180267   0.176341   0.158456   0.106208  0.199788   \n",
       "\n",
       "           PAY_AMT2  PAY_AMT3  PAY_AMT4  PAY_AMT5  PAY_AMT6  \n",
       "LIMIT_BAL  0.165682  0.211372  0.199648  0.216146  0.224594  \n",
       "SEX        0.000655  0.006248 -0.000075 -0.000469  0.001997  \n",
       "EDUCATION  0.032531  0.044643  0.047210  0.046910  0.046576  \n",
       "MARRIAGE  -0.013012 -0.006624 -0.010904 -0.005524  0.000515  \n",
       "AGE        0.019959  0.030200  0.018125  0.023779  0.019674  \n",
       "PAY_0     -0.068540 -0.068790 -0.060425 -0.059418 -0.063257  \n",
       "PAY_2     -0.057079 -0.053981 -0.043681 -0.036044 -0.042905  \n",
       "PAY_3     -0.064132 -0.053470 -0.044234 -0.038854 -0.040017  \n",
       "PAY_4     -0.003251 -0.067676 -0.042180 -0.034109 -0.029826  \n",
       "PAY_5     -0.004002  0.006254 -0.054622 -0.033975 -0.026139  \n",
       "PAY_6     -0.004038  0.004141  0.020229 -0.046146 -0.029433  \n",
       "BILL_AMT1  0.095717  0.166570  0.161754  0.174668  0.172586  \n",
       "BILL_AMT2  0.099033  0.159873  0.150938  0.162069  0.170157  \n",
       "BILL_AMT3  0.318260  0.136266  0.145508  0.181863  0.180267  \n",
       "BILL_AMT4  0.192126  0.301143  0.140440  0.159645  0.176341  \n",
       "BILL_AMT5  0.168691  0.254648  0.298433  0.136757  0.158456  \n",
       "BILL_AMT6  0.165353  0.236850  0.257658  0.308170  0.106208  \n",
       "PAY_AMT1   0.301340  0.280112  0.227299  0.134775  0.199788  \n",
       "PAY_AMT2   1.000000  0.263173  0.194210  0.177182  0.160517  \n",
       "PAY_AMT3   0.263173  1.000000  0.235817  0.164954  0.165994  \n",
       "PAY_AMT4   0.194210  0.235817  1.000000  0.160718  0.158066  \n",
       "PAY_AMT5   0.177182  0.164954  0.160718  1.000000  0.157330  \n",
       "PAY_AMT6   0.160517  0.165994  0.158066  0.157330  1.000000  "
      ]
     },
     "execution_count": 33,
     "metadata": {},
     "output_type": "execute_result"
    }
   ],
   "source": [
    "X.corr()"
   ]
  },
  {
   "cell_type": "code",
   "execution_count": 34,
   "metadata": {},
   "outputs": [],
   "source": [
    "corrs=[]\n",
    "for col in X.columns:\n",
    "    try:\n",
    "        corr=Y.corr(X[col])\n",
    "    except TypeError:\n",
    "        pass\n",
    "    finally:\n",
    "        corrs.append(corr)"
   ]
  },
  {
   "cell_type": "code",
   "execution_count": 35,
   "metadata": {},
   "outputs": [
    {
     "data": {
      "text/plain": [
       "28835    0\n",
       "25329    0\n",
       "18894    0\n",
       "690      1\n",
       "6239     1\n",
       "Name: SEX, dtype: int64"
      ]
     },
     "execution_count": 35,
     "metadata": {},
     "output_type": "execute_result"
    }
   ],
   "source": [
    "X['SEX'].head()"
   ]
  },
  {
   "cell_type": "code",
   "execution_count": 36,
   "metadata": {},
   "outputs": [],
   "source": [
    "drop=Y.loc[Y=='default payment next month'].index\n",
    "Y=Y.drop(axis=0,labels=drop).astype('float')"
   ]
  },
  {
   "cell_type": "code",
   "execution_count": 37,
   "metadata": {},
   "outputs": [
    {
     "data": {
      "text/plain": [
       "28835    1.0\n",
       "25329    0.0\n",
       "18894    0.0\n",
       "690      0.0\n",
       "6239     1.0\n",
       "Name: Y, dtype: float64"
      ]
     },
     "execution_count": 37,
     "metadata": {},
     "output_type": "execute_result"
    }
   ],
   "source": [
    "Y.head()"
   ]
  },
  {
   "cell_type": "code",
   "execution_count": 38,
   "metadata": {
    "scrolled": false
   },
   "outputs": [],
   "source": [
    "corrs_dict={}\n",
    "for col in X.columns:\n",
    "    corr=Y.corr(X[col])\n",
    "    corrs_dict[corr]=col"
   ]
  },
  {
   "cell_type": "code",
   "execution_count": 39,
   "metadata": {},
   "outputs": [
    {
     "data": {
      "text/plain": [
       "[(0.3247719791885289, 'PAY_0'),\n",
       " (0.26680996369146887, 'PAY_2'),\n",
       " (0.24157538375445056, 'PAY_3'),\n",
       " (0.2191431610315646, 'PAY_4'),\n",
       " (0.2082285651340503, 'PAY_5'),\n",
       " (0.1934849951519945, 'PAY_6'),\n",
       " (0.037952654269024236, 'SEX'),\n",
       " (0.014585721734803544, 'AGE'),\n",
       " (-0.0055062686639030115, 'BILL_AMT6'),\n",
       " (-0.007186665088273208, 'BILL_AMT5'),\n",
       " (-0.009667022795648407, 'BILL_AMT4'),\n",
       " (-0.01176184913837224, 'BILL_AMT2'),\n",
       " (-0.012577939176275641, 'BILL_AMT3'),\n",
       " (-0.0168578550504445, 'BILL_AMT1'),\n",
       " (-0.02575434832908227, 'MARRIAGE'),\n",
       " (-0.0373837241070344, 'EDUCATION'),\n",
       " (-0.05405320523929009, 'PAY_AMT3'),\n",
       " (-0.05417576487798119, 'PAY_AMT5'),\n",
       " (-0.05453985841212807, 'PAY_AMT4'),\n",
       " (-0.05529615819230803, 'PAY_AMT6'),\n",
       " (-0.05763542969121716, 'PAY_AMT2'),\n",
       " (-0.07146874510620206, 'PAY_AMT1'),\n",
       " (-0.15595838634025438, 'LIMIT_BAL')]"
      ]
     },
     "execution_count": 39,
     "metadata": {},
     "output_type": "execute_result"
    }
   ],
   "source": [
    "sorted(corrs_dict.items(),reverse=True)"
   ]
  },
  {
   "cell_type": "markdown",
   "metadata": {},
   "source": [
    "## 3. Feature Engineering"
   ]
  },
  {
   "cell_type": "markdown",
   "metadata": {},
   "source": [
    "# Polynomial and Interaction Feature Engineering"
   ]
  },
  {
   "cell_type": "code",
   "execution_count": 40,
   "metadata": {},
   "outputs": [
    {
     "data": {
      "text/plain": [
       "(22499, 23)"
      ]
     },
     "execution_count": 40,
     "metadata": {},
     "output_type": "execute_result"
    }
   ],
   "source": [
    "X.shape"
   ]
  },
  {
   "cell_type": "code",
   "execution_count": 41,
   "metadata": {},
   "outputs": [],
   "source": [
    "#Polynomial\n",
    "from sklearn.preprocessing import PolynomialFeatures\n",
    "poly = PolynomialFeatures(degree=2, include_bias=False)\n",
    "poly_data = poly.fit_transform(X)\n",
    "poly_columns = poly.get_feature_names(X.columns)\n",
    "X_poly = pd.DataFrame(poly_data, columns=poly_columns)"
   ]
  },
  {
   "cell_type": "code",
   "execution_count": 42,
   "metadata": {},
   "outputs": [
    {
     "data": {
      "text/plain": [
       "(22499, 299)"
      ]
     },
     "execution_count": 42,
     "metadata": {},
     "output_type": "execute_result"
    }
   ],
   "source": [
    "X_poly.shape"
   ]
  },
  {
   "cell_type": "code",
   "execution_count": 43,
   "metadata": {
    "scrolled": true
   },
   "outputs": [
    {
     "data": {
      "text/plain": [
       "Index(['LIMIT_BAL', 'SEX', 'EDUCATION', 'MARRIAGE', 'AGE', 'PAY_0', 'PAY_2',\n",
       "       'PAY_3', 'PAY_4', 'PAY_5',\n",
       "       ...\n",
       "       'PAY_AMT3^2', 'PAY_AMT3 PAY_AMT4', 'PAY_AMT3 PAY_AMT5',\n",
       "       'PAY_AMT3 PAY_AMT6', 'PAY_AMT4^2', 'PAY_AMT4 PAY_AMT5',\n",
       "       'PAY_AMT4 PAY_AMT6', 'PAY_AMT5^2', 'PAY_AMT5 PAY_AMT6', 'PAY_AMT6^2'],\n",
       "      dtype='object', length=299)"
      ]
     },
     "execution_count": 43,
     "metadata": {},
     "output_type": "execute_result"
    }
   ],
   "source": [
    "X_poly.columns"
   ]
  },
  {
   "cell_type": "code",
   "execution_count": null,
   "metadata": {},
   "outputs": [],
   "source": []
  },
  {
   "cell_type": "code",
   "execution_count": 44,
   "metadata": {},
   "outputs": [],
   "source": [
    "X['LIM_PAY_ratio_1']=(X['LIMIT_BAL']- X['PAY_AMT1'])/X['LIMIT_BAL']\n",
    "X['LIM_PAY_ratio_2']=(X['LIMIT_BAL']- X['PAY_AMT2'])/X['LIMIT_BAL']\n",
    "X['LIM_PAY_ratio_3']=(X['LIMIT_BAL']- X['PAY_AMT3'])/X['LIMIT_BAL']\n",
    "X['LIM_PAY_ratio_4']=(X['LIMIT_BAL']- X['PAY_AMT4'])/X['LIMIT_BAL']\n",
    "X['LIM_PAY_ratio_5']=(X['LIMIT_BAL']- X['PAY_AMT5'])/X['LIMIT_BAL']\n",
    "X['LIM_PAY_ratio_6']=(X['LIMIT_BAL']- X['PAY_AMT6'])/X['LIMIT_BAL']"
   ]
  },
  {
   "cell_type": "code",
   "execution_count": 45,
   "metadata": {},
   "outputs": [],
   "source": [
    "X['LIM_BILL_ratio_1']=(X['LIMIT_BAL']- X['BILL_AMT1'])/X['LIMIT_BAL']\n",
    "X['LIM_BILL_ratio_2']=(X['LIMIT_BAL']- X['BILL_AMT2'])/X['LIMIT_BAL']\n",
    "X['LIM_BILL_ratio_3']=(X['LIMIT_BAL']- X['BILL_AMT3'])/X['LIMIT_BAL']\n",
    "X['LIM_BILL_ratio_4']=(X['LIMIT_BAL']- X['BILL_AMT4'])/X['LIMIT_BAL']\n",
    "X['LIM_BILL_ratio_5']=(X['LIMIT_BAL']- X['BILL_AMT5'])/X['LIMIT_BAL']\n",
    "X['LIM_BILL_ratio_6']=(X['LIMIT_BAL']- X['BILL_AMT6'])/X['LIMIT_BAL']"
   ]
  },
  {
   "cell_type": "code",
   "execution_count": null,
   "metadata": {},
   "outputs": [],
   "source": []
  },
  {
   "cell_type": "code",
   "execution_count": 46,
   "metadata": {
    "scrolled": true
   },
   "outputs": [
    {
     "data": {
      "text/plain": [
       "count    22499.000000\n",
       "mean         0.575276\n",
       "std          0.412895\n",
       "min         -5.455300\n",
       "25%          0.170197\n",
       "50%          0.683589\n",
       "75%          0.977502\n",
       "max          1.551933\n",
       "Name: LIM_BILL_ratio_1, dtype: float64"
      ]
     },
     "execution_count": 46,
     "metadata": {},
     "output_type": "execute_result"
    }
   ],
   "source": [
    "X['LIM_BILL_ratio_1'].describe()"
   ]
  },
  {
   "cell_type": "code",
   "execution_count": 47,
   "metadata": {},
   "outputs": [],
   "source": [
    "# "
   ]
  },
  {
   "cell_type": "code",
   "execution_count": 48,
   "metadata": {},
   "outputs": [
    {
     "data": {
      "text/plain": [
       "(22499, 35)"
      ]
     },
     "execution_count": 48,
     "metadata": {},
     "output_type": "execute_result"
    }
   ],
   "source": [
    "X.shape"
   ]
  },
  {
   "cell_type": "code",
   "execution_count": 49,
   "metadata": {},
   "outputs": [
    {
     "data": {
      "text/html": [
       "<div>\n",
       "<style scoped>\n",
       "    .dataframe tbody tr th:only-of-type {\n",
       "        vertical-align: middle;\n",
       "    }\n",
       "\n",
       "    .dataframe tbody tr th {\n",
       "        vertical-align: top;\n",
       "    }\n",
       "\n",
       "    .dataframe thead th {\n",
       "        text-align: right;\n",
       "    }\n",
       "</style>\n",
       "<table border=\"1\" class=\"dataframe\">\n",
       "  <thead>\n",
       "    <tr style=\"text-align: right;\">\n",
       "      <th></th>\n",
       "      <th>LIMIT_BAL</th>\n",
       "      <th>SEX</th>\n",
       "      <th>EDUCATION</th>\n",
       "      <th>MARRIAGE</th>\n",
       "      <th>AGE</th>\n",
       "      <th>PAY_0</th>\n",
       "      <th>PAY_2</th>\n",
       "      <th>PAY_3</th>\n",
       "      <th>PAY_4</th>\n",
       "      <th>PAY_5</th>\n",
       "      <th>PAY_6</th>\n",
       "      <th>BILL_AMT1</th>\n",
       "      <th>BILL_AMT2</th>\n",
       "      <th>BILL_AMT3</th>\n",
       "      <th>BILL_AMT4</th>\n",
       "      <th>BILL_AMT5</th>\n",
       "      <th>BILL_AMT6</th>\n",
       "      <th>PAY_AMT1</th>\n",
       "      <th>PAY_AMT2</th>\n",
       "      <th>PAY_AMT3</th>\n",
       "      <th>PAY_AMT4</th>\n",
       "      <th>PAY_AMT5</th>\n",
       "      <th>PAY_AMT6</th>\n",
       "      <th>LIM_PAY_ratio_1</th>\n",
       "      <th>LIM_PAY_ratio_2</th>\n",
       "      <th>LIM_PAY_ratio_3</th>\n",
       "      <th>LIM_PAY_ratio_4</th>\n",
       "      <th>LIM_PAY_ratio_5</th>\n",
       "      <th>LIM_PAY_ratio_6</th>\n",
       "      <th>LIM_BILL_ratio_1</th>\n",
       "      <th>LIM_BILL_ratio_2</th>\n",
       "      <th>LIM_BILL_ratio_3</th>\n",
       "      <th>LIM_BILL_ratio_4</th>\n",
       "      <th>LIM_BILL_ratio_5</th>\n",
       "      <th>LIM_BILL_ratio_6</th>\n",
       "    </tr>\n",
       "  </thead>\n",
       "  <tbody>\n",
       "    <tr>\n",
       "      <th>28835</th>\n",
       "      <td>220000.0</td>\n",
       "      <td>0</td>\n",
       "      <td>3.0</td>\n",
       "      <td>2.0</td>\n",
       "      <td>36.0</td>\n",
       "      <td>0.0</td>\n",
       "      <td>0.0</td>\n",
       "      <td>0.0</td>\n",
       "      <td>0.0</td>\n",
       "      <td>0.0</td>\n",
       "      <td>0.0</td>\n",
       "      <td>222598.0</td>\n",
       "      <td>222168.0</td>\n",
       "      <td>217900.0</td>\n",
       "      <td>221193.0</td>\n",
       "      <td>181859.0</td>\n",
       "      <td>184605.0</td>\n",
       "      <td>10000.0</td>\n",
       "      <td>8018.0</td>\n",
       "      <td>10121.0</td>\n",
       "      <td>6006.0</td>\n",
       "      <td>10987.0</td>\n",
       "      <td>143779.0</td>\n",
       "      <td>0.954545</td>\n",
       "      <td>0.963555</td>\n",
       "      <td>0.953995</td>\n",
       "      <td>0.97270</td>\n",
       "      <td>0.950059</td>\n",
       "      <td>0.346459</td>\n",
       "      <td>-0.011809</td>\n",
       "      <td>-0.009855</td>\n",
       "      <td>0.009545</td>\n",
       "      <td>-0.005423</td>\n",
       "      <td>0.173368</td>\n",
       "      <td>0.160886</td>\n",
       "    </tr>\n",
       "    <tr>\n",
       "      <th>25329</th>\n",
       "      <td>200000.0</td>\n",
       "      <td>0</td>\n",
       "      <td>1.0</td>\n",
       "      <td>2.0</td>\n",
       "      <td>29.0</td>\n",
       "      <td>-1.0</td>\n",
       "      <td>-1.0</td>\n",
       "      <td>-1.0</td>\n",
       "      <td>-1.0</td>\n",
       "      <td>-1.0</td>\n",
       "      <td>-1.0</td>\n",
       "      <td>326.0</td>\n",
       "      <td>326.0</td>\n",
       "      <td>326.0</td>\n",
       "      <td>326.0</td>\n",
       "      <td>326.0</td>\n",
       "      <td>326.0</td>\n",
       "      <td>326.0</td>\n",
       "      <td>326.0</td>\n",
       "      <td>326.0</td>\n",
       "      <td>326.0</td>\n",
       "      <td>326.0</td>\n",
       "      <td>326.0</td>\n",
       "      <td>0.998370</td>\n",
       "      <td>0.998370</td>\n",
       "      <td>0.998370</td>\n",
       "      <td>0.99837</td>\n",
       "      <td>0.998370</td>\n",
       "      <td>0.998370</td>\n",
       "      <td>0.998370</td>\n",
       "      <td>0.998370</td>\n",
       "      <td>0.998370</td>\n",
       "      <td>0.998370</td>\n",
       "      <td>0.998370</td>\n",
       "      <td>0.998370</td>\n",
       "    </tr>\n",
       "    <tr>\n",
       "      <th>18894</th>\n",
       "      <td>180000.0</td>\n",
       "      <td>0</td>\n",
       "      <td>3.0</td>\n",
       "      <td>2.0</td>\n",
       "      <td>27.0</td>\n",
       "      <td>-2.0</td>\n",
       "      <td>-2.0</td>\n",
       "      <td>-2.0</td>\n",
       "      <td>-2.0</td>\n",
       "      <td>-2.0</td>\n",
       "      <td>-2.0</td>\n",
       "      <td>0.0</td>\n",
       "      <td>0.0</td>\n",
       "      <td>0.0</td>\n",
       "      <td>0.0</td>\n",
       "      <td>0.0</td>\n",
       "      <td>0.0</td>\n",
       "      <td>0.0</td>\n",
       "      <td>0.0</td>\n",
       "      <td>0.0</td>\n",
       "      <td>0.0</td>\n",
       "      <td>0.0</td>\n",
       "      <td>0.0</td>\n",
       "      <td>1.000000</td>\n",
       "      <td>1.000000</td>\n",
       "      <td>1.000000</td>\n",
       "      <td>1.00000</td>\n",
       "      <td>1.000000</td>\n",
       "      <td>1.000000</td>\n",
       "      <td>1.000000</td>\n",
       "      <td>1.000000</td>\n",
       "      <td>1.000000</td>\n",
       "      <td>1.000000</td>\n",
       "      <td>1.000000</td>\n",
       "      <td>1.000000</td>\n",
       "    </tr>\n",
       "    <tr>\n",
       "      <th>690</th>\n",
       "      <td>80000.0</td>\n",
       "      <td>1</td>\n",
       "      <td>2.0</td>\n",
       "      <td>2.0</td>\n",
       "      <td>32.0</td>\n",
       "      <td>0.0</td>\n",
       "      <td>0.0</td>\n",
       "      <td>0.0</td>\n",
       "      <td>0.0</td>\n",
       "      <td>0.0</td>\n",
       "      <td>0.0</td>\n",
       "      <td>51372.0</td>\n",
       "      <td>51872.0</td>\n",
       "      <td>47593.0</td>\n",
       "      <td>43882.0</td>\n",
       "      <td>42256.0</td>\n",
       "      <td>42527.0</td>\n",
       "      <td>1853.0</td>\n",
       "      <td>1700.0</td>\n",
       "      <td>1522.0</td>\n",
       "      <td>1548.0</td>\n",
       "      <td>1488.0</td>\n",
       "      <td>1500.0</td>\n",
       "      <td>0.976838</td>\n",
       "      <td>0.978750</td>\n",
       "      <td>0.980975</td>\n",
       "      <td>0.98065</td>\n",
       "      <td>0.981400</td>\n",
       "      <td>0.981250</td>\n",
       "      <td>0.357850</td>\n",
       "      <td>0.351600</td>\n",
       "      <td>0.405087</td>\n",
       "      <td>0.451475</td>\n",
       "      <td>0.471800</td>\n",
       "      <td>0.468413</td>\n",
       "    </tr>\n",
       "    <tr>\n",
       "      <th>6239</th>\n",
       "      <td>10000.0</td>\n",
       "      <td>1</td>\n",
       "      <td>2.0</td>\n",
       "      <td>2.0</td>\n",
       "      <td>27.0</td>\n",
       "      <td>0.0</td>\n",
       "      <td>0.0</td>\n",
       "      <td>0.0</td>\n",
       "      <td>0.0</td>\n",
       "      <td>0.0</td>\n",
       "      <td>0.0</td>\n",
       "      <td>8257.0</td>\n",
       "      <td>7995.0</td>\n",
       "      <td>4878.0</td>\n",
       "      <td>5444.0</td>\n",
       "      <td>2639.0</td>\n",
       "      <td>2697.0</td>\n",
       "      <td>2000.0</td>\n",
       "      <td>1100.0</td>\n",
       "      <td>600.0</td>\n",
       "      <td>300.0</td>\n",
       "      <td>300.0</td>\n",
       "      <td>1000.0</td>\n",
       "      <td>0.800000</td>\n",
       "      <td>0.890000</td>\n",
       "      <td>0.940000</td>\n",
       "      <td>0.97000</td>\n",
       "      <td>0.970000</td>\n",
       "      <td>0.900000</td>\n",
       "      <td>0.174300</td>\n",
       "      <td>0.200500</td>\n",
       "      <td>0.512200</td>\n",
       "      <td>0.455600</td>\n",
       "      <td>0.736100</td>\n",
       "      <td>0.730300</td>\n",
       "    </tr>\n",
       "  </tbody>\n",
       "</table>\n",
       "</div>"
      ],
      "text/plain": [
       "       LIMIT_BAL  SEX  EDUCATION  MARRIAGE   AGE  PAY_0  PAY_2  PAY_3  PAY_4  \\\n",
       "28835   220000.0    0        3.0       2.0  36.0    0.0    0.0    0.0    0.0   \n",
       "25329   200000.0    0        1.0       2.0  29.0   -1.0   -1.0   -1.0   -1.0   \n",
       "18894   180000.0    0        3.0       2.0  27.0   -2.0   -2.0   -2.0   -2.0   \n",
       "690      80000.0    1        2.0       2.0  32.0    0.0    0.0    0.0    0.0   \n",
       "6239     10000.0    1        2.0       2.0  27.0    0.0    0.0    0.0    0.0   \n",
       "\n",
       "       PAY_5  PAY_6  BILL_AMT1  BILL_AMT2  BILL_AMT3  BILL_AMT4  BILL_AMT5  \\\n",
       "28835    0.0    0.0   222598.0   222168.0   217900.0   221193.0   181859.0   \n",
       "25329   -1.0   -1.0      326.0      326.0      326.0      326.0      326.0   \n",
       "18894   -2.0   -2.0        0.0        0.0        0.0        0.0        0.0   \n",
       "690      0.0    0.0    51372.0    51872.0    47593.0    43882.0    42256.0   \n",
       "6239     0.0    0.0     8257.0     7995.0     4878.0     5444.0     2639.0   \n",
       "\n",
       "       BILL_AMT6  PAY_AMT1  PAY_AMT2  PAY_AMT3  PAY_AMT4  PAY_AMT5  PAY_AMT6  \\\n",
       "28835   184605.0   10000.0    8018.0   10121.0    6006.0   10987.0  143779.0   \n",
       "25329      326.0     326.0     326.0     326.0     326.0     326.0     326.0   \n",
       "18894        0.0       0.0       0.0       0.0       0.0       0.0       0.0   \n",
       "690      42527.0    1853.0    1700.0    1522.0    1548.0    1488.0    1500.0   \n",
       "6239      2697.0    2000.0    1100.0     600.0     300.0     300.0    1000.0   \n",
       "\n",
       "       LIM_PAY_ratio_1  LIM_PAY_ratio_2  LIM_PAY_ratio_3  LIM_PAY_ratio_4  \\\n",
       "28835         0.954545         0.963555         0.953995          0.97270   \n",
       "25329         0.998370         0.998370         0.998370          0.99837   \n",
       "18894         1.000000         1.000000         1.000000          1.00000   \n",
       "690           0.976838         0.978750         0.980975          0.98065   \n",
       "6239          0.800000         0.890000         0.940000          0.97000   \n",
       "\n",
       "       LIM_PAY_ratio_5  LIM_PAY_ratio_6  LIM_BILL_ratio_1  LIM_BILL_ratio_2  \\\n",
       "28835         0.950059         0.346459         -0.011809         -0.009855   \n",
       "25329         0.998370         0.998370          0.998370          0.998370   \n",
       "18894         1.000000         1.000000          1.000000          1.000000   \n",
       "690           0.981400         0.981250          0.357850          0.351600   \n",
       "6239          0.970000         0.900000          0.174300          0.200500   \n",
       "\n",
       "       LIM_BILL_ratio_3  LIM_BILL_ratio_4  LIM_BILL_ratio_5  LIM_BILL_ratio_6  \n",
       "28835          0.009545         -0.005423          0.173368          0.160886  \n",
       "25329          0.998370          0.998370          0.998370          0.998370  \n",
       "18894          1.000000          1.000000          1.000000          1.000000  \n",
       "690            0.405087          0.451475          0.471800          0.468413  \n",
       "6239           0.512200          0.455600          0.736100          0.730300  "
      ]
     },
     "execution_count": 49,
     "metadata": {},
     "output_type": "execute_result"
    }
   ],
   "source": [
    "X.head()"
   ]
  },
  {
   "cell_type": "code",
   "execution_count": 50,
   "metadata": {},
   "outputs": [
    {
     "data": {
      "text/plain": [
       "0"
      ]
     },
     "execution_count": 50,
     "metadata": {},
     "output_type": "execute_result"
    }
   ],
   "source": [
    "X.isna().any().sum()"
   ]
  },
  {
   "cell_type": "code",
   "execution_count": 51,
   "metadata": {},
   "outputs": [
    {
     "data": {
      "text/plain": [
       "(22499,)"
      ]
     },
     "execution_count": 51,
     "metadata": {},
     "output_type": "execute_result"
    }
   ],
   "source": [
    "Y.shape"
   ]
  },
  {
   "cell_type": "code",
   "execution_count": 52,
   "metadata": {},
   "outputs": [
    {
     "data": {
      "text/plain": [
       "0"
      ]
     },
     "execution_count": 52,
     "metadata": {},
     "output_type": "execute_result"
    }
   ],
   "source": [
    "Y.isna().any().sum()"
   ]
  },
  {
   "cell_type": "markdown",
   "metadata": {},
   "source": [
    "## 4. Feature Selection"
   ]
  },
  {
   "cell_type": "code",
   "execution_count": 53,
   "metadata": {},
   "outputs": [
    {
     "data": {
      "text/plain": [
       "(22499,)"
      ]
     },
     "execution_count": 53,
     "metadata": {},
     "output_type": "execute_result"
    }
   ],
   "source": [
    "Y.shape"
   ]
  },
  {
   "cell_type": "code",
   "execution_count": 54,
   "metadata": {},
   "outputs": [
    {
     "data": {
      "text/plain": [
       "(22499, 35)"
      ]
     },
     "execution_count": 54,
     "metadata": {},
     "output_type": "execute_result"
    }
   ],
   "source": [
    "X.shape"
   ]
  },
  {
   "cell_type": "code",
   "execution_count": 55,
   "metadata": {},
   "outputs": [],
   "source": [
    "X_train,X_test,y_train,y_test=train_test_split(X,Y,test_size=.25,random_state=1)"
   ]
  },
  {
   "cell_type": "markdown",
   "metadata": {},
   "source": [
    "## Logistic Regression"
   ]
  },
  {
   "cell_type": "code",
   "execution_count": 56,
   "metadata": {},
   "outputs": [],
   "source": [
    "lr_test=LogisticRegression(class_weight='balanced',random_state=1)"
   ]
  },
  {
   "cell_type": "code",
   "execution_count": 57,
   "metadata": {},
   "outputs": [],
   "source": [
    "params={'penalty':['l1','l2',None],'C':[.01,.1,.5,1],'solver':['liblinear','saga'],\n",
    "       'max_iter':[100,250,500],'l1_ratio':[.01,.1,.25,.5,1]}"
   ]
  },
  {
   "cell_type": "code",
   "execution_count": 58,
   "metadata": {},
   "outputs": [],
   "source": [
    "lr_test_grid=GridSearchCV(lr_test,param_grid=params,scoring='f1',n_jobs=-1,cv=3,verbose=1)"
   ]
  },
  {
   "cell_type": "code",
   "execution_count": 59,
   "metadata": {},
   "outputs": [
    {
     "name": "stdout",
     "output_type": "stream",
     "text": [
      "Fitting 3 folds for each of 360 candidates, totalling 1080 fits\n"
     ]
    },
    {
     "name": "stderr",
     "output_type": "stream",
     "text": [
      "[Parallel(n_jobs=-1)]: Using backend LokyBackend with 12 concurrent workers.\n",
      "[Parallel(n_jobs=-1)]: Done  26 tasks      | elapsed:    7.7s\n",
      "[Parallel(n_jobs=-1)]: Done 176 tasks      | elapsed:   37.3s\n",
      "[Parallel(n_jobs=-1)]: Done 426 tasks      | elapsed:  1.4min\n",
      "[Parallel(n_jobs=-1)]: Done 776 tasks      | elapsed:  2.8min\n",
      "[Parallel(n_jobs=-1)]: Done 1080 out of 1080 | elapsed:  4.3min finished\n",
      "/opt/anaconda3/lib/python3.7/site-packages/sklearn/linear_model/_logistic.py:1317: UserWarning: l1_ratio parameter is only used when penalty is 'elasticnet'. Got (penalty=l1)\n",
      "  \"(penalty={})\".format(self.penalty))\n"
     ]
    },
    {
     "data": {
      "text/plain": [
       "GridSearchCV(cv=3,\n",
       "             estimator=LogisticRegression(class_weight='balanced',\n",
       "                                          random_state=1),\n",
       "             n_jobs=-1,\n",
       "             param_grid={'C': [0.01, 0.1, 0.5, 1],\n",
       "                         'l1_ratio': [0.01, 0.1, 0.25, 0.5, 1],\n",
       "                         'max_iter': [100, 250, 500],\n",
       "                         'penalty': ['l1', 'l2', None],\n",
       "                         'solver': ['liblinear', 'saga']},\n",
       "             scoring='f1', verbose=1)"
      ]
     },
     "execution_count": 59,
     "metadata": {},
     "output_type": "execute_result"
    }
   ],
   "source": [
    "lr_test_grid.fit(X_train,y_train)"
   ]
  },
  {
   "cell_type": "code",
   "execution_count": 60,
   "metadata": {},
   "outputs": [
    {
     "data": {
      "text/plain": [
       "0.4868465126350696"
      ]
     },
     "execution_count": 60,
     "metadata": {},
     "output_type": "execute_result"
    }
   ],
   "source": [
    "lr_test_grid.best_score_"
   ]
  },
  {
   "cell_type": "code",
   "execution_count": null,
   "metadata": {},
   "outputs": [],
   "source": []
  },
  {
   "cell_type": "code",
   "execution_count": 61,
   "metadata": {},
   "outputs": [
    {
     "data": {
      "text/plain": [
       "LogisticRegression(C=0.5, class_weight='balanced', l1_ratio=0.01, penalty='l1',\n",
       "                   random_state=1, solver='liblinear')"
      ]
     },
     "execution_count": 61,
     "metadata": {},
     "output_type": "execute_result"
    }
   ],
   "source": [
    "lr_test_grid.best_estimator_"
   ]
  },
  {
   "cell_type": "code",
   "execution_count": 62,
   "metadata": {},
   "outputs": [
    {
     "data": {
      "text/plain": [
       "0.4833689350015258"
      ]
     },
     "execution_count": 62,
     "metadata": {},
     "output_type": "execute_result"
    }
   ],
   "source": [
    "y_preds=lr_test_grid.best_estimator_.predict(X_test)\n",
    "test_f1=metrics.f1_score(y_test,y_preds)\n",
    "test_f1"
   ]
  },
  {
   "cell_type": "markdown",
   "metadata": {},
   "source": [
    "## Random Forest"
   ]
  },
  {
   "cell_type": "code",
   "execution_count": 63,
   "metadata": {},
   "outputs": [
    {
     "ename": "SyntaxError",
     "evalue": "can't assign to operator (<ipython-input-63-65c153a0ead2>, line 1)",
     "output_type": "error",
     "traceback": [
      "\u001b[0;36m  File \u001b[0;32m\"<ipython-input-63-65c153a0ead2>\"\u001b[0;36m, line \u001b[0;32m1\u001b[0m\n\u001b[0;31m    min_samples_splitint or float, default=2\u001b[0m\n\u001b[0m                                            ^\u001b[0m\n\u001b[0;31mSyntaxError\u001b[0m\u001b[0;31m:\u001b[0m can't assign to operator\n"
     ]
    }
   ],
   "source": [
    "# min_samples_splitint or float, default=2\n",
    "# min_weight_fraction_leaffloat, default=0.0\n"
   ]
  },
  {
   "cell_type": "code",
   "execution_count": 168,
   "metadata": {},
   "outputs": [],
   "source": [
    "RF_clf=RandomForestClassifier(class_weight='balanced')"
   ]
  },
  {
   "cell_type": "code",
   "execution_count": 169,
   "metadata": {},
   "outputs": [],
   "source": [
    "params_rf={'n_estimators':[700],'criterion':['gini','entropy'],\n",
    "           'max_depth':[3],'min_samples_leaf':[1],'max_leaf_nodes':[12,15,18,20.5,0.25], 'max_features':[7], \n",
    "           'warm_start': [True, False] }"
   ]
  },
  {
   "cell_type": "code",
   "execution_count": 170,
   "metadata": {},
   "outputs": [],
   "source": [
    "grid_forest=GridSearchCV(RF_clf,params_rf,scoring='f1',cv=3,verbose=1,n_jobs=-1)"
   ]
  },
  {
   "cell_type": "code",
   "execution_count": 171,
   "metadata": {},
   "outputs": [],
   "source": [
    "# 'ccp_alpha': [0.2, 0.8, 5, 10],"
   ]
  },
  {
   "cell_type": "code",
   "execution_count": 172,
   "metadata": {
    "scrolled": false
   },
   "outputs": [
    {
     "name": "stdout",
     "output_type": "stream",
     "text": [
      "Fitting 3 folds for each of 20 candidates, totalling 60 fits\n"
     ]
    },
    {
     "name": "stderr",
     "output_type": "stream",
     "text": [
      "[Parallel(n_jobs=-1)]: Using backend LokyBackend with 12 concurrent workers.\n",
      "[Parallel(n_jobs=-1)]: Done  26 tasks      | elapsed:   30.5s\n",
      "[Parallel(n_jobs=-1)]: Done  60 out of  60 | elapsed:   56.6s finished\n"
     ]
    },
    {
     "data": {
      "text/plain": [
       "GridSearchCV(cv=3, estimator=RandomForestClassifier(class_weight='balanced'),\n",
       "             n_jobs=-1,\n",
       "             param_grid={'criterion': ['gini', 'entropy'], 'max_depth': [3],\n",
       "                         'max_features': [7],\n",
       "                         'max_leaf_nodes': [12, 15, 18, 20.5, 0.25],\n",
       "                         'min_samples_leaf': [1], 'n_estimators': [700],\n",
       "                         'warm_start': [True, False]},\n",
       "             scoring='f1', verbose=1)"
      ]
     },
     "execution_count": 172,
     "metadata": {},
     "output_type": "execute_result"
    }
   ],
   "source": [
    "grid_forest.fit(X_train,y_train)"
   ]
  },
  {
   "cell_type": "code",
   "execution_count": 179,
   "metadata": {},
   "outputs": [],
   "source": [
    "final_model = grid_forest.best_estimator_"
   ]
  },
  {
   "cell_type": "code",
   "execution_count": 174,
   "metadata": {},
   "outputs": [
    {
     "data": {
      "text/plain": [
       "{'criterion': 'entropy',\n",
       " 'max_depth': 3,\n",
       " 'max_features': 7,\n",
       " 'max_leaf_nodes': 15,\n",
       " 'min_samples_leaf': 1,\n",
       " 'n_estimators': 700,\n",
       " 'warm_start': False}"
      ]
     },
     "execution_count": 174,
     "metadata": {},
     "output_type": "execute_result"
    }
   ],
   "source": [
    "grid_forest.best_params_"
   ]
  },
  {
   "cell_type": "code",
   "execution_count": 175,
   "metadata": {},
   "outputs": [
    {
     "data": {
      "text/plain": [
       "0.5408003730243464"
      ]
     },
     "execution_count": 175,
     "metadata": {},
     "output_type": "execute_result"
    }
   ],
   "source": [
    "grid_forest.best_score_"
   ]
  },
  {
   "cell_type": "code",
   "execution_count": 176,
   "metadata": {},
   "outputs": [],
   "source": [
    "y_preds=grid_forest.best_estimator_.predict(X_test)\n",
    "f1_score=metrics.f1_score(y_test,y_preds)"
   ]
  },
  {
   "cell_type": "code",
   "execution_count": 177,
   "metadata": {},
   "outputs": [
    {
     "data": {
      "text/plain": [
       "0.541444866920152"
      ]
     },
     "execution_count": 177,
     "metadata": {},
     "output_type": "execute_result"
    }
   ],
   "source": [
    "f1_score"
   ]
  },
  {
   "cell_type": "markdown",
   "metadata": {},
   "source": [
    "## KNN"
   ]
  },
  {
   "cell_type": "code",
   "execution_count": 178,
   "metadata": {},
   "outputs": [],
   "source": [
    "knn=KNeighborsClassifier()\n",
    "params_t={'n_neighbors':range(1,11)}"
   ]
  },
  {
   "cell_type": "code",
   "execution_count": 156,
   "metadata": {},
   "outputs": [
    {
     "data": {
      "text/plain": [
       "dict_keys(['algorithm', 'leaf_size', 'metric', 'metric_params', 'n_jobs', 'n_neighbors', 'p', 'weights'])"
      ]
     },
     "execution_count": 156,
     "metadata": {},
     "output_type": "execute_result"
    }
   ],
   "source": [
    "knn.get_params().keys()"
   ]
  },
  {
   "cell_type": "code",
   "execution_count": 76,
   "metadata": {},
   "outputs": [],
   "source": [
    "knn_grid=GridSearchCV(knn,params_t,cv=3,verbose=1,n_jobs=-1,scoring='f1')"
   ]
  },
  {
   "cell_type": "code",
   "execution_count": 77,
   "metadata": {
    "scrolled": false
   },
   "outputs": [
    {
     "name": "stdout",
     "output_type": "stream",
     "text": [
      "Fitting 3 folds for each of 10 candidates, totalling 30 fits\n"
     ]
    },
    {
     "name": "stderr",
     "output_type": "stream",
     "text": [
      "[Parallel(n_jobs=-1)]: Using backend LokyBackend with 12 concurrent workers.\n",
      "[Parallel(n_jobs=-1)]: Done  30 out of  30 | elapsed:    6.2s finished\n"
     ]
    },
    {
     "data": {
      "text/plain": [
       "GridSearchCV(cv=3, estimator=KNeighborsClassifier(), n_jobs=-1,\n",
       "             param_grid={'n_neighbors': range(1, 11)}, scoring='f1', verbose=1)"
      ]
     },
     "execution_count": 77,
     "metadata": {},
     "output_type": "execute_result"
    }
   ],
   "source": [
    "knn_grid.fit(X_train,y_train)"
   ]
  },
  {
   "cell_type": "code",
   "execution_count": 78,
   "metadata": {},
   "outputs": [
    {
     "data": {
      "text/plain": [
       "{'n_neighbors': 1}"
      ]
     },
     "execution_count": 78,
     "metadata": {},
     "output_type": "execute_result"
    }
   ],
   "source": [
    "knn_grid.best_params_"
   ]
  },
  {
   "cell_type": "code",
   "execution_count": 79,
   "metadata": {},
   "outputs": [
    {
     "data": {
      "text/plain": [
       "0.292197634421655"
      ]
     },
     "execution_count": 79,
     "metadata": {},
     "output_type": "execute_result"
    }
   ],
   "source": [
    "knn_grid.best_score_"
   ]
  },
  {
   "cell_type": "code",
   "execution_count": 80,
   "metadata": {},
   "outputs": [],
   "source": [
    "y_pred_knn=knn_grid.best_estimator_.predict(X_test)"
   ]
  },
  {
   "cell_type": "code",
   "execution_count": 81,
   "metadata": {},
   "outputs": [
    {
     "data": {
      "text/plain": [
       "0.31038599283724627"
      ]
     },
     "execution_count": 81,
     "metadata": {},
     "output_type": "execute_result"
    }
   ],
   "source": [
    "knn_f1=metrics.f1_score(y_test,y_pred_knn)\n",
    "knn_f1"
   ]
  },
  {
   "cell_type": "markdown",
   "metadata": {},
   "source": [
    "## XGBoost in progress "
   ]
  },
  {
   "cell_type": "code",
   "execution_count": 82,
   "metadata": {},
   "outputs": [
    {
     "name": "stdout",
     "output_type": "stream",
     "text": [
      "Requirement already satisfied: xgboost in /opt/anaconda3/lib/python3.7/site-packages (1.2.0)\r\n",
      "Requirement already satisfied: numpy in /opt/anaconda3/lib/python3.7/site-packages (from xgboost) (1.18.1)\r\n",
      "Requirement already satisfied: scipy in /opt/anaconda3/lib/python3.7/site-packages (from xgboost) (1.4.1)\r\n"
     ]
    }
   ],
   "source": [
    "!pip install xgboost"
   ]
  },
  {
   "cell_type": "code",
   "execution_count": 83,
   "metadata": {
    "scrolled": true
   },
   "outputs": [],
   "source": [
    "import xgboost as xgb"
   ]
  },
  {
   "cell_type": "code",
   "execution_count": 84,
   "metadata": {},
   "outputs": [],
   "source": [
    "xgb_clf=clf = xgb.XGBClassifier(random_state=1)\n",
    "params={'max_depth':[1,3,5,7],'learning_rate':[.01,.1,.5,1], 'max_delta_step':[1,3,5,7],\n",
    "       'booster':['dart','gbtree','gblinear']}"
   ]
  },
  {
   "cell_type": "code",
   "execution_count": 85,
   "metadata": {},
   "outputs": [],
   "source": [
    "xgb_grid=GridSearchCV(xgb_clf,params,cv=3,verbose=1,n_jobs=-1)"
   ]
  },
  {
   "cell_type": "code",
   "execution_count": 86,
   "metadata": {},
   "outputs": [
    {
     "name": "stdout",
     "output_type": "stream",
     "text": [
      "Fitting 3 folds for each of 192 candidates, totalling 576 fits\n"
     ]
    },
    {
     "name": "stderr",
     "output_type": "stream",
     "text": [
      "[Parallel(n_jobs=-1)]: Using backend LokyBackend with 12 concurrent workers.\n",
      "[Parallel(n_jobs=-1)]: Done  26 tasks      | elapsed:   19.4s\n",
      "[Parallel(n_jobs=-1)]: Done 176 tasks      | elapsed:  2.5min\n",
      "[Parallel(n_jobs=-1)]: Done 426 tasks      | elapsed:  4.7min\n",
      "[Parallel(n_jobs=-1)]: Done 576 out of 576 | elapsed:  4.9min finished\n"
     ]
    },
    {
     "data": {
      "text/plain": [
       "GridSearchCV(cv=3,\n",
       "             estimator=XGBClassifier(base_score=None, booster=None,\n",
       "                                     colsample_bylevel=None,\n",
       "                                     colsample_bynode=None,\n",
       "                                     colsample_bytree=None, gamma=None,\n",
       "                                     gpu_id=None, importance_type='gain',\n",
       "                                     interaction_constraints=None,\n",
       "                                     learning_rate=None, max_delta_step=None,\n",
       "                                     max_depth=None, min_child_weight=None,\n",
       "                                     missing=nan, monotone_constraints=None,\n",
       "                                     n_estimators=100, n_jobs=None,\n",
       "                                     num_parallel_tree=None, random_state=1,\n",
       "                                     reg_alpha=None, reg_lambda=None,\n",
       "                                     scale_pos_weight=None, subsample=None,\n",
       "                                     tree_method=None, validate_parameters=None,\n",
       "                                     verbosity=None),\n",
       "             n_jobs=-1,\n",
       "             param_grid={'booster': ['dart', 'gbtree', 'gblinear'],\n",
       "                         'learning_rate': [0.01, 0.1, 0.5, 1],\n",
       "                         'max_delta_step': [1, 3, 5, 7],\n",
       "                         'max_depth': [1, 3, 5, 7]},\n",
       "             verbose=1)"
      ]
     },
     "execution_count": 86,
     "metadata": {},
     "output_type": "execute_result"
    }
   ],
   "source": [
    "xgb_grid.fit(X_train,y_train)"
   ]
  },
  {
   "cell_type": "code",
   "execution_count": 87,
   "metadata": {},
   "outputs": [
    {
     "data": {
      "text/plain": [
       "0.8189522259101207"
      ]
     },
     "execution_count": 87,
     "metadata": {},
     "output_type": "execute_result"
    }
   ],
   "source": [
    "xgb_grid.best_score_"
   ]
  },
  {
   "cell_type": "code",
   "execution_count": 88,
   "metadata": {},
   "outputs": [],
   "source": [
    "test_pred=xgb_grid.best_estimator_.predict(X_test)"
   ]
  },
  {
   "cell_type": "code",
   "execution_count": 89,
   "metadata": {},
   "outputs": [
    {
     "data": {
      "text/plain": [
       "{'booster': 'dart', 'learning_rate': 0.1, 'max_delta_step': 3, 'max_depth': 3}"
      ]
     },
     "execution_count": 89,
     "metadata": {},
     "output_type": "execute_result"
    }
   ],
   "source": [
    "xgb_grid.best_params_"
   ]
  },
  {
   "cell_type": "code",
   "execution_count": 90,
   "metadata": {},
   "outputs": [
    {
     "data": {
      "text/plain": [
       "0.49229188078108943"
      ]
     },
     "execution_count": 90,
     "metadata": {},
     "output_type": "execute_result"
    }
   ],
   "source": [
    "f1_xgb_test=metrics.f1_score(y_test,test_pred)\n",
    "f1_xgb_test"
   ]
  },
  {
   "cell_type": "markdown",
   "metadata": {},
   "source": [
    "## 5. Model Fitting and Hyperparameter Tuning\n",
    "KNN, Logistic Regression, Decision Tree"
   ]
  },
  {
   "cell_type": "markdown",
   "metadata": {},
   "source": [
    "## Decision Tree"
   ]
  },
  {
   "cell_type": "code",
   "execution_count": 91,
   "metadata": {},
   "outputs": [],
   "source": [
    "dt_clf=DecisionTreeClassifier(class_weight='balanced')\n",
    "params_dt={'criterion':['gini','entropy'],'max_depth':[2,3,5,6,7],\n",
    "           'max_features':[2,4,5],'min_samples_leaf':[1,2,4,6]}"
   ]
  },
  {
   "cell_type": "code",
   "execution_count": 92,
   "metadata": {},
   "outputs": [],
   "source": [
    "dt_grid=GridSearchCV(dt_clf,params_dt,cv=3,verbose=1,n_jobs=-1,scoring='f1')"
   ]
  },
  {
   "cell_type": "code",
   "execution_count": 93,
   "metadata": {
    "scrolled": false
   },
   "outputs": [
    {
     "name": "stdout",
     "output_type": "stream",
     "text": [
      "Fitting 3 folds for each of 120 candidates, totalling 360 fits\n"
     ]
    },
    {
     "name": "stderr",
     "output_type": "stream",
     "text": [
      "[Parallel(n_jobs=-1)]: Using backend LokyBackend with 12 concurrent workers.\n",
      "[Parallel(n_jobs=-1)]: Done  28 tasks      | elapsed:    0.6s\n",
      "[Parallel(n_jobs=-1)]: Done 360 out of 360 | elapsed:    4.7s finished\n"
     ]
    },
    {
     "data": {
      "text/plain": [
       "GridSearchCV(cv=3, estimator=DecisionTreeClassifier(class_weight='balanced'),\n",
       "             n_jobs=-1,\n",
       "             param_grid={'criterion': ['gini', 'entropy'],\n",
       "                         'max_depth': [2, 3, 5, 6, 7],\n",
       "                         'max_features': [2, 4, 5],\n",
       "                         'min_samples_leaf': [1, 2, 4, 6]},\n",
       "             scoring='f1', verbose=1)"
      ]
     },
     "execution_count": 93,
     "metadata": {},
     "output_type": "execute_result"
    }
   ],
   "source": [
    "dt_grid.fit(X_train,y_train)"
   ]
  },
  {
   "cell_type": "code",
   "execution_count": 94,
   "metadata": {},
   "outputs": [
    {
     "data": {
      "text/plain": [
       "{'criterion': 'entropy',\n",
       " 'max_depth': 7,\n",
       " 'max_features': 5,\n",
       " 'min_samples_leaf': 4}"
      ]
     },
     "execution_count": 94,
     "metadata": {},
     "output_type": "execute_result"
    }
   ],
   "source": [
    "dt_grid.best_params_"
   ]
  },
  {
   "cell_type": "code",
   "execution_count": 95,
   "metadata": {},
   "outputs": [
    {
     "data": {
      "text/plain": [
       "0.5150977328195443"
      ]
     },
     "execution_count": 95,
     "metadata": {},
     "output_type": "execute_result"
    }
   ],
   "source": [
    "dt_grid.best_score_"
   ]
  },
  {
   "cell_type": "code",
   "execution_count": 96,
   "metadata": {},
   "outputs": [],
   "source": [
    "y_pred_dt=dt_grid.best_estimator_.predict(X_test)\n",
    "f1_dt=metrics.f1_score(y_test,y_pred_dt)"
   ]
  },
  {
   "cell_type": "code",
   "execution_count": 97,
   "metadata": {},
   "outputs": [
    {
     "data": {
      "text/plain": [
       "0.505546218487395"
      ]
     },
     "execution_count": 97,
     "metadata": {},
     "output_type": "execute_result"
    }
   ],
   "source": [
    "f1_dt"
   ]
  },
  {
   "cell_type": "markdown",
   "metadata": {},
   "source": [
    "## Voting Classifier"
   ]
  },
  {
   "cell_type": "code",
   "execution_count": 98,
   "metadata": {},
   "outputs": [],
   "source": [
    "lr=lr_test_grid.best_estimator_\n",
    "rf=grid_forest.best_estimator_\n",
    "# knn=knn_grid.best_estimator_\n",
    "dt=dt_grid.best_estimator_\n",
    "xgb=xgb_grid.best_estimator_"
   ]
  },
  {
   "cell_type": "code",
   "execution_count": 99,
   "metadata": {},
   "outputs": [],
   "source": [
    "voting_clf=VotingClassifier(estimators=[('logreg',lr),('randomforest',rf),\n",
    "                           ('decisiontree',dt)],voting='hard')"
   ]
  },
  {
   "cell_type": "code",
   "execution_count": 100,
   "metadata": {
    "scrolled": false
   },
   "outputs": [
    {
     "name": "stderr",
     "output_type": "stream",
     "text": [
      "/opt/anaconda3/lib/python3.7/site-packages/sklearn/linear_model/_logistic.py:1317: UserWarning: l1_ratio parameter is only used when penalty is 'elasticnet'. Got (penalty=l1)\n",
      "  \"(penalty={})\".format(self.penalty))\n",
      "/opt/anaconda3/lib/python3.7/site-packages/sklearn/ensemble/_forest.py:586: UserWarning: class_weight presets \"balanced\" or \"balanced_subsample\" are not recommended for warm_start if the fitted data differs from the full dataset. In order to use \"balanced\" weights, use compute_class_weight (\"balanced\", classes, y). In place of y you can use a large enough sample of the full training set target to properly estimate the class frequency distributions. Pass the resulting weights as the class_weight parameter.\n",
      "  warn('class_weight presets \"balanced\" or '\n"
     ]
    },
    {
     "data": {
      "text/plain": [
       "VotingClassifier(estimators=[('logreg',\n",
       "                              LogisticRegression(C=0.5, class_weight='balanced',\n",
       "                                                 l1_ratio=0.01, penalty='l1',\n",
       "                                                 random_state=1,\n",
       "                                                 solver='liblinear')),\n",
       "                             ('randomforest',\n",
       "                              RandomForestClassifier(class_weight='balanced',\n",
       "                                                     criterion='entropy',\n",
       "                                                     max_depth=3,\n",
       "                                                     max_features=7,\n",
       "                                                     max_leaf_nodes=15,\n",
       "                                                     n_estimators=700,\n",
       "                                                     warm_start=True)),\n",
       "                             ('decisiontree',\n",
       "                              DecisionTreeClassifier(class_weight='balanced',\n",
       "                                                     criterion='entropy',\n",
       "                                                     max_depth=7,\n",
       "                                                     max_features=5,\n",
       "                                                     min_samples_leaf=4))])"
      ]
     },
     "execution_count": 100,
     "metadata": {},
     "output_type": "execute_result"
    }
   ],
   "source": [
    "voting_clf.fit(X_train,y_train)"
   ]
  },
  {
   "cell_type": "code",
   "execution_count": 101,
   "metadata": {},
   "outputs": [],
   "source": [
    "train_pred=voting_clf.predict(X_train)\n",
    "test_pred=voting_clf.predict(X_test)"
   ]
  },
  {
   "cell_type": "code",
   "execution_count": 102,
   "metadata": {},
   "outputs": [],
   "source": [
    "f1_score_train=metrics.f1_score(y_train,train_pred)\n",
    "f1_score_test=metrics.f1_score(y_test,test_pred)"
   ]
  },
  {
   "cell_type": "code",
   "execution_count": 103,
   "metadata": {},
   "outputs": [
    {
     "name": "stdout",
     "output_type": "stream",
     "text": [
      "0.5478325859491779 0.5362752430815259\n"
     ]
    }
   ],
   "source": [
    "print(f1_score_train,f1_score_test)"
   ]
  },
  {
   "cell_type": "markdown",
   "metadata": {},
   "source": [
    "## Bagging Model"
   ]
  },
  {
   "cell_type": "markdown",
   "metadata": {},
   "source": [
    "{'criterion': 'entropy',\n",
    " 'max_depth': 3,\n",
    " 'max_features': 7,\n",
    " 'max_leaf_nodes': 15,\n",
    " 'min_samples_leaf': 1,\n",
    " 'n_estimators': 500}"
   ]
  },
  {
   "cell_type": "code",
   "execution_count": 108,
   "metadata": {},
   "outputs": [],
   "source": [
    "bc_lr=BaggingClassifier(VotingClassifier(estimators=[('logreg',lr),('randomforest',rf),\n",
    "                           ('decisiontree',dt), ('xgb', xgb)]), oob_score=True,random_state=1)"
   ]
  },
  {
   "cell_type": "markdown",
   "metadata": {},
   "source": [
    "bc_lr=BaggingClassifier(VotingClassifier(estimators=[('logreg',\n",
    "                              LogisticRegression(C=0.5, class_weight='balanced',\n",
    "                                                 l1_ratio=0.01, penalty='l1',\n",
    "                                                 random_state=1,\n",
    "                                                 solver='liblinear')),\n",
    "                             ('randomforest',\n",
    "                              RandomForestClassifier(class_weight='balanced',\n",
    "                                                     criterion='entropy',\n",
    "                                                     max_depth=3,\n",
    "                                                     max_leaf_nodes=20,\n",
    "                                                     n_estimators=500)),\n",
    "                             ('decisiontree',\n",
    "                              DecisionTreeClassifier(class_weight='balanced',\n",
    "                                                     criterion='entropy',\n",
    "                                                     max_depth=7,\n",
    "                                                     max_features=5,\n",
    "                                                     min_samples_leaf=4))])\n",
    "                        ,oob_score=True,random_state=1)"
   ]
  },
  {
   "cell_type": "code",
   "execution_count": 109,
   "metadata": {
    "scrolled": true
   },
   "outputs": [
    {
     "name": "stderr",
     "output_type": "stream",
     "text": [
      "/opt/anaconda3/lib/python3.7/site-packages/sklearn/linear_model/_logistic.py:1317: UserWarning: l1_ratio parameter is only used when penalty is 'elasticnet'. Got (penalty=l1)\n",
      "  \"(penalty={})\".format(self.penalty))\n",
      "/opt/anaconda3/lib/python3.7/site-packages/sklearn/ensemble/_forest.py:586: UserWarning: class_weight presets \"balanced\" or \"balanced_subsample\" are not recommended for warm_start if the fitted data differs from the full dataset. In order to use \"balanced\" weights, use compute_class_weight (\"balanced\", classes, y). In place of y you can use a large enough sample of the full training set target to properly estimate the class frequency distributions. Pass the resulting weights as the class_weight parameter.\n",
      "  warn('class_weight presets \"balanced\" or '\n",
      "/opt/anaconda3/lib/python3.7/site-packages/sklearn/linear_model/_logistic.py:1317: UserWarning: l1_ratio parameter is only used when penalty is 'elasticnet'. Got (penalty=l1)\n",
      "  \"(penalty={})\".format(self.penalty))\n",
      "/opt/anaconda3/lib/python3.7/site-packages/sklearn/ensemble/_forest.py:586: UserWarning: class_weight presets \"balanced\" or \"balanced_subsample\" are not recommended for warm_start if the fitted data differs from the full dataset. In order to use \"balanced\" weights, use compute_class_weight (\"balanced\", classes, y). In place of y you can use a large enough sample of the full training set target to properly estimate the class frequency distributions. Pass the resulting weights as the class_weight parameter.\n",
      "  warn('class_weight presets \"balanced\" or '\n",
      "/opt/anaconda3/lib/python3.7/site-packages/sklearn/linear_model/_logistic.py:1317: UserWarning: l1_ratio parameter is only used when penalty is 'elasticnet'. Got (penalty=l1)\n",
      "  \"(penalty={})\".format(self.penalty))\n",
      "/opt/anaconda3/lib/python3.7/site-packages/sklearn/ensemble/_forest.py:586: UserWarning: class_weight presets \"balanced\" or \"balanced_subsample\" are not recommended for warm_start if the fitted data differs from the full dataset. In order to use \"balanced\" weights, use compute_class_weight (\"balanced\", classes, y). In place of y you can use a large enough sample of the full training set target to properly estimate the class frequency distributions. Pass the resulting weights as the class_weight parameter.\n",
      "  warn('class_weight presets \"balanced\" or '\n",
      "/opt/anaconda3/lib/python3.7/site-packages/sklearn/linear_model/_logistic.py:1317: UserWarning: l1_ratio parameter is only used when penalty is 'elasticnet'. Got (penalty=l1)\n",
      "  \"(penalty={})\".format(self.penalty))\n",
      "/opt/anaconda3/lib/python3.7/site-packages/sklearn/ensemble/_forest.py:586: UserWarning: class_weight presets \"balanced\" or \"balanced_subsample\" are not recommended for warm_start if the fitted data differs from the full dataset. In order to use \"balanced\" weights, use compute_class_weight (\"balanced\", classes, y). In place of y you can use a large enough sample of the full training set target to properly estimate the class frequency distributions. Pass the resulting weights as the class_weight parameter.\n",
      "  warn('class_weight presets \"balanced\" or '\n",
      "/opt/anaconda3/lib/python3.7/site-packages/sklearn/linear_model/_logistic.py:1317: UserWarning: l1_ratio parameter is only used when penalty is 'elasticnet'. Got (penalty=l1)\n",
      "  \"(penalty={})\".format(self.penalty))\n",
      "/opt/anaconda3/lib/python3.7/site-packages/sklearn/ensemble/_forest.py:586: UserWarning: class_weight presets \"balanced\" or \"balanced_subsample\" are not recommended for warm_start if the fitted data differs from the full dataset. In order to use \"balanced\" weights, use compute_class_weight (\"balanced\", classes, y). In place of y you can use a large enough sample of the full training set target to properly estimate the class frequency distributions. Pass the resulting weights as the class_weight parameter.\n",
      "  warn('class_weight presets \"balanced\" or '\n",
      "/opt/anaconda3/lib/python3.7/site-packages/sklearn/linear_model/_logistic.py:1317: UserWarning: l1_ratio parameter is only used when penalty is 'elasticnet'. Got (penalty=l1)\n",
      "  \"(penalty={})\".format(self.penalty))\n",
      "/opt/anaconda3/lib/python3.7/site-packages/sklearn/ensemble/_forest.py:586: UserWarning: class_weight presets \"balanced\" or \"balanced_subsample\" are not recommended for warm_start if the fitted data differs from the full dataset. In order to use \"balanced\" weights, use compute_class_weight (\"balanced\", classes, y). In place of y you can use a large enough sample of the full training set target to properly estimate the class frequency distributions. Pass the resulting weights as the class_weight parameter.\n",
      "  warn('class_weight presets \"balanced\" or '\n",
      "/opt/anaconda3/lib/python3.7/site-packages/sklearn/linear_model/_logistic.py:1317: UserWarning: l1_ratio parameter is only used when penalty is 'elasticnet'. Got (penalty=l1)\n",
      "  \"(penalty={})\".format(self.penalty))\n",
      "/opt/anaconda3/lib/python3.7/site-packages/sklearn/ensemble/_forest.py:586: UserWarning: class_weight presets \"balanced\" or \"balanced_subsample\" are not recommended for warm_start if the fitted data differs from the full dataset. In order to use \"balanced\" weights, use compute_class_weight (\"balanced\", classes, y). In place of y you can use a large enough sample of the full training set target to properly estimate the class frequency distributions. Pass the resulting weights as the class_weight parameter.\n",
      "  warn('class_weight presets \"balanced\" or '\n",
      "/opt/anaconda3/lib/python3.7/site-packages/sklearn/linear_model/_logistic.py:1317: UserWarning: l1_ratio parameter is only used when penalty is 'elasticnet'. Got (penalty=l1)\n",
      "  \"(penalty={})\".format(self.penalty))\n",
      "/opt/anaconda3/lib/python3.7/site-packages/sklearn/ensemble/_forest.py:586: UserWarning: class_weight presets \"balanced\" or \"balanced_subsample\" are not recommended for warm_start if the fitted data differs from the full dataset. In order to use \"balanced\" weights, use compute_class_weight (\"balanced\", classes, y). In place of y you can use a large enough sample of the full training set target to properly estimate the class frequency distributions. Pass the resulting weights as the class_weight parameter.\n",
      "  warn('class_weight presets \"balanced\" or '\n",
      "/opt/anaconda3/lib/python3.7/site-packages/sklearn/linear_model/_logistic.py:1317: UserWarning: l1_ratio parameter is only used when penalty is 'elasticnet'. Got (penalty=l1)\n",
      "  \"(penalty={})\".format(self.penalty))\n",
      "/opt/anaconda3/lib/python3.7/site-packages/sklearn/ensemble/_forest.py:586: UserWarning: class_weight presets \"balanced\" or \"balanced_subsample\" are not recommended for warm_start if the fitted data differs from the full dataset. In order to use \"balanced\" weights, use compute_class_weight (\"balanced\", classes, y). In place of y you can use a large enough sample of the full training set target to properly estimate the class frequency distributions. Pass the resulting weights as the class_weight parameter.\n",
      "  warn('class_weight presets \"balanced\" or '\n",
      "/opt/anaconda3/lib/python3.7/site-packages/sklearn/linear_model/_logistic.py:1317: UserWarning: l1_ratio parameter is only used when penalty is 'elasticnet'. Got (penalty=l1)\n",
      "  \"(penalty={})\".format(self.penalty))\n",
      "/opt/anaconda3/lib/python3.7/site-packages/sklearn/ensemble/_forest.py:586: UserWarning: class_weight presets \"balanced\" or \"balanced_subsample\" are not recommended for warm_start if the fitted data differs from the full dataset. In order to use \"balanced\" weights, use compute_class_weight (\"balanced\", classes, y). In place of y you can use a large enough sample of the full training set target to properly estimate the class frequency distributions. Pass the resulting weights as the class_weight parameter.\n",
      "  warn('class_weight presets \"balanced\" or '\n",
      "/opt/anaconda3/lib/python3.7/site-packages/sklearn/ensemble/_bagging.py:638: UserWarning: Some inputs do not have OOB scores. This probably means too few estimators were used to compute any reliable oob estimates.\n",
      "  warn(\"Some inputs do not have OOB scores. \"\n",
      "/opt/anaconda3/lib/python3.7/site-packages/sklearn/ensemble/_bagging.py:643: RuntimeWarning: invalid value encountered in true_divide\n",
      "  predictions.sum(axis=1)[:, np.newaxis])\n"
     ]
    },
    {
     "data": {
      "text/plain": [
       "BaggingClassifier(base_estimator=VotingClassifier(estimators=[('logreg',\n",
       "                                                               LogisticRegression(C=0.5,\n",
       "                                                                                  class_weight='balanced',\n",
       "                                                                                  l1_ratio=0.01,\n",
       "                                                                                  penalty='l1',\n",
       "                                                                                  random_state=1,\n",
       "                                                                                  solver='liblinear')),\n",
       "                                                              ('randomforest',\n",
       "                                                               RandomForestClassifier(class_weight='balanced',\n",
       "                                                                                      criterion='entropy',\n",
       "                                                                                      max_depth=3,\n",
       "                                                                                      max_features=7,\n",
       "                                                                                      max_leaf_nodes=15,\n",
       "                                                                                      n_estimators=700,\n",
       "                                                                                      warm_start=True)),\n",
       "                                                              ('d...\n",
       "                                                                             importance_type='gain',\n",
       "                                                                             interaction_constraints='',\n",
       "                                                                             learning_rate=0.1,\n",
       "                                                                             max_delta_step=3,\n",
       "                                                                             max_depth=3,\n",
       "                                                                             min_child_weight=1,\n",
       "                                                                             missing=nan,\n",
       "                                                                             monotone_constraints='()',\n",
       "                                                                             n_estimators=100,\n",
       "                                                                             n_jobs=0,\n",
       "                                                                             num_parallel_tree=1,\n",
       "                                                                             random_state=1,\n",
       "                                                                             reg_alpha=0,\n",
       "                                                                             reg_lambda=1,\n",
       "                                                                             scale_pos_weight=1,\n",
       "                                                                             subsample=1,\n",
       "                                                                             tree_method='exact',\n",
       "                                                                             validate_parameters=1,\n",
       "                                                                             verbosity=None))]),\n",
       "                  oob_score=True, random_state=1)"
      ]
     },
     "execution_count": 109,
     "metadata": {},
     "output_type": "execute_result"
    }
   ],
   "source": [
    "bc_lr.fit(X_train, y_train)"
   ]
  },
  {
   "cell_type": "code",
   "execution_count": 110,
   "metadata": {},
   "outputs": [
    {
     "data": {
      "text/plain": [
       "0.8004029868436648"
      ]
     },
     "execution_count": 110,
     "metadata": {},
     "output_type": "execute_result"
    }
   ],
   "source": [
    "bc_lr.oob_score_"
   ]
  },
  {
   "cell_type": "code",
   "execution_count": 111,
   "metadata": {
    "scrolled": true
   },
   "outputs": [],
   "source": [
    "bc_lr_preds=bc_lr.predict(X_test)\n",
    "bc_lr_f1_test=metrics.f1_score(y_test,bc_lr_preds)"
   ]
  },
  {
   "cell_type": "code",
   "execution_count": 112,
   "metadata": {},
   "outputs": [
    {
     "data": {
      "text/plain": [
       "0.5339480301760269"
      ]
     },
     "execution_count": 112,
     "metadata": {},
     "output_type": "execute_result"
    }
   ],
   "source": [
    "bc_lr_f1_test"
   ]
  },
  {
   "cell_type": "markdown",
   "metadata": {},
   "source": [
    "## 6. Model Evaluation"
   ]
  },
  {
   "cell_type": "code",
   "execution_count": 184,
   "metadata": {},
   "outputs": [],
   "source": [
    "hold_out_df = pd.read_csv('holdout_data.csv', index_col=0)\n"
   ]
  },
  {
   "cell_type": "code",
   "execution_count": 191,
   "metadata": {},
   "outputs": [
    {
     "data": {
      "text/html": [
       "<div>\n",
       "<style scoped>\n",
       "    .dataframe tbody tr th:only-of-type {\n",
       "        vertical-align: middle;\n",
       "    }\n",
       "\n",
       "    .dataframe tbody tr th {\n",
       "        vertical-align: top;\n",
       "    }\n",
       "\n",
       "    .dataframe thead th {\n",
       "        text-align: right;\n",
       "    }\n",
       "</style>\n",
       "<table border=\"1\" class=\"dataframe\">\n",
       "  <thead>\n",
       "    <tr style=\"text-align: right;\">\n",
       "      <th></th>\n",
       "      <th>LIMIT_BAL</th>\n",
       "      <th>SEX</th>\n",
       "      <th>EDUCATION</th>\n",
       "      <th>MARRIAGE</th>\n",
       "      <th>AGE</th>\n",
       "      <th>PAY_0</th>\n",
       "      <th>PAY_2</th>\n",
       "      <th>PAY_3</th>\n",
       "      <th>PAY_4</th>\n",
       "      <th>PAY_5</th>\n",
       "      <th>PAY_6</th>\n",
       "      <th>BILL_AMT1</th>\n",
       "      <th>BILL_AMT2</th>\n",
       "      <th>BILL_AMT3</th>\n",
       "      <th>BILL_AMT4</th>\n",
       "      <th>BILL_AMT5</th>\n",
       "      <th>BILL_AMT6</th>\n",
       "      <th>PAY_AMT1</th>\n",
       "      <th>PAY_AMT2</th>\n",
       "      <th>PAY_AMT3</th>\n",
       "      <th>PAY_AMT4</th>\n",
       "      <th>PAY_AMT5</th>\n",
       "      <th>PAY_AMT6</th>\n",
       "    </tr>\n",
       "  </thead>\n",
       "  <tbody>\n",
       "    <tr>\n",
       "      <th>5501</th>\n",
       "      <td>180000</td>\n",
       "      <td>2</td>\n",
       "      <td>2</td>\n",
       "      <td>1</td>\n",
       "      <td>44</td>\n",
       "      <td>0</td>\n",
       "      <td>0</td>\n",
       "      <td>0</td>\n",
       "      <td>0</td>\n",
       "      <td>0</td>\n",
       "      <td>0</td>\n",
       "      <td>161186</td>\n",
       "      <td>167080</td>\n",
       "      <td>170788</td>\n",
       "      <td>174764</td>\n",
       "      <td>162667</td>\n",
       "      <td>166953</td>\n",
       "      <td>10000</td>\n",
       "      <td>8000</td>\n",
       "      <td>7000</td>\n",
       "      <td>6000</td>\n",
       "      <td>7000</td>\n",
       "      <td>10000</td>\n",
       "    </tr>\n",
       "    <tr>\n",
       "      <th>28857</th>\n",
       "      <td>130000</td>\n",
       "      <td>2</td>\n",
       "      <td>2</td>\n",
       "      <td>1</td>\n",
       "      <td>48</td>\n",
       "      <td>-2</td>\n",
       "      <td>-2</td>\n",
       "      <td>-2</td>\n",
       "      <td>-2</td>\n",
       "      <td>-2</td>\n",
       "      <td>-2</td>\n",
       "      <td>0</td>\n",
       "      <td>1240</td>\n",
       "      <td>1487</td>\n",
       "      <td>1279</td>\n",
       "      <td>749</td>\n",
       "      <td>440</td>\n",
       "      <td>1240</td>\n",
       "      <td>1487</td>\n",
       "      <td>1279</td>\n",
       "      <td>749</td>\n",
       "      <td>440</td>\n",
       "      <td>849</td>\n",
       "    </tr>\n",
       "    <tr>\n",
       "      <th>11272</th>\n",
       "      <td>60000</td>\n",
       "      <td>2</td>\n",
       "      <td>1</td>\n",
       "      <td>1</td>\n",
       "      <td>43</td>\n",
       "      <td>-1</td>\n",
       "      <td>3</td>\n",
       "      <td>2</td>\n",
       "      <td>0</td>\n",
       "      <td>0</td>\n",
       "      <td>-1</td>\n",
       "      <td>495</td>\n",
       "      <td>330</td>\n",
       "      <td>495</td>\n",
       "      <td>330</td>\n",
       "      <td>165</td>\n",
       "      <td>340</td>\n",
       "      <td>0</td>\n",
       "      <td>330</td>\n",
       "      <td>0</td>\n",
       "      <td>0</td>\n",
       "      <td>340</td>\n",
       "      <td>0</td>\n",
       "    </tr>\n",
       "    <tr>\n",
       "      <th>8206</th>\n",
       "      <td>240000</td>\n",
       "      <td>1</td>\n",
       "      <td>1</td>\n",
       "      <td>1</td>\n",
       "      <td>42</td>\n",
       "      <td>0</td>\n",
       "      <td>0</td>\n",
       "      <td>0</td>\n",
       "      <td>0</td>\n",
       "      <td>0</td>\n",
       "      <td>0</td>\n",
       "      <td>72339</td>\n",
       "      <td>91045</td>\n",
       "      <td>91027</td>\n",
       "      <td>51508</td>\n",
       "      <td>51127</td>\n",
       "      <td>0</td>\n",
       "      <td>20000</td>\n",
       "      <td>2213</td>\n",
       "      <td>1030</td>\n",
       "      <td>1023</td>\n",
       "      <td>6790</td>\n",
       "      <td>10893</td>\n",
       "    </tr>\n",
       "    <tr>\n",
       "      <th>6362</th>\n",
       "      <td>100000</td>\n",
       "      <td>2</td>\n",
       "      <td>2</td>\n",
       "      <td>1</td>\n",
       "      <td>28</td>\n",
       "      <td>2</td>\n",
       "      <td>0</td>\n",
       "      <td>0</td>\n",
       "      <td>0</td>\n",
       "      <td>0</td>\n",
       "      <td>2</td>\n",
       "      <td>73073</td>\n",
       "      <td>74739</td>\n",
       "      <td>70844</td>\n",
       "      <td>63924</td>\n",
       "      <td>57326</td>\n",
       "      <td>59654</td>\n",
       "      <td>3500</td>\n",
       "      <td>3003</td>\n",
       "      <td>1910</td>\n",
       "      <td>2400</td>\n",
       "      <td>3300</td>\n",
       "      <td>0</td>\n",
       "    </tr>\n",
       "  </tbody>\n",
       "</table>\n",
       "</div>"
      ],
      "text/plain": [
       "       LIMIT_BAL  SEX  EDUCATION  MARRIAGE  AGE  PAY_0  PAY_2  PAY_3  PAY_4  \\\n",
       "5501      180000    2          2         1   44      0      0      0      0   \n",
       "28857     130000    2          2         1   48     -2     -2     -2     -2   \n",
       "11272      60000    2          1         1   43     -1      3      2      0   \n",
       "8206      240000    1          1         1   42      0      0      0      0   \n",
       "6362      100000    2          2         1   28      2      0      0      0   \n",
       "\n",
       "       PAY_5  PAY_6  BILL_AMT1  BILL_AMT2  BILL_AMT3  BILL_AMT4  BILL_AMT5  \\\n",
       "5501       0      0     161186     167080     170788     174764     162667   \n",
       "28857     -2     -2          0       1240       1487       1279        749   \n",
       "11272      0     -1        495        330        495        330        165   \n",
       "8206       0      0      72339      91045      91027      51508      51127   \n",
       "6362       0      2      73073      74739      70844      63924      57326   \n",
       "\n",
       "       BILL_AMT6  PAY_AMT1  PAY_AMT2  PAY_AMT3  PAY_AMT4  PAY_AMT5  PAY_AMT6  \n",
       "5501      166953     10000      8000      7000      6000      7000     10000  \n",
       "28857        440      1240      1487      1279       749       440       849  \n",
       "11272        340         0       330         0         0       340         0  \n",
       "8206           0     20000      2213      1030      1023      6790     10893  \n",
       "6362       59654      3500      3003      1910      2400      3300         0  "
      ]
     },
     "execution_count": 191,
     "metadata": {},
     "output_type": "execute_result"
    }
   ],
   "source": [
    "hold_out_df.head()"
   ]
  },
  {
   "cell_type": "code",
   "execution_count": 186,
   "metadata": {},
   "outputs": [
    {
     "data": {
      "text/plain": [
       "(7501, 23)"
      ]
     },
     "execution_count": 186,
     "metadata": {},
     "output_type": "execute_result"
    }
   ],
   "source": [
    "hold_out_df.shape"
   ]
  },
  {
   "cell_type": "code",
   "execution_count": 190,
   "metadata": {},
   "outputs": [],
   "source": [
    "hold_out_df.columns=['LIMIT_BAL', 'SEX', 'EDUCATION', 'MARRIAGE', 'AGE', 'PAY_0',\n",
    "        'PAY_2', 'PAY_3', 'PAY_4', 'PAY_5', 'PAY_6', 'BILL_AMT1',\n",
    "        'BILL_AMT2', 'BILL_AMT3', 'BILL_AMT4', 'BILL_AMT5', 'BILL_AMT6',\n",
    "        'PAY_AMT1', 'PAY_AMT2', 'PAY_AMT3', 'PAY_AMT4', 'PAY_AMT5',\n",
    "        'PAY_AMT6']"
   ]
  },
  {
   "cell_type": "code",
   "execution_count": null,
   "metadata": {},
   "outputs": [],
   "source": [
    "hold_out_df['LIM_PAY_ratio_1']=(hold_out_df['LIMIT_BAL']- hold_out_df['PAY_AMT1'])/hold_out_df['LIMIT_BAL']\n",
    "hold_out_df['LIM_PAY_ratio_2']=(hold_out_df['LIMIT_BAL']- hold_out_df['PAY_AMT2'])/hold_out_df['LIMIT_BAL']\n",
    "hold_out_df['LIM_PAY_ratio_3']=(hold_out_df['LIMIT_BAL']- hold_out_df['PAY_AMT3'])/hold_out_df['LIMIT_BAL']\n",
    "hold_out_df['LIM_PAY_ratio_4']=(hold_out_df['LIMIT_BAL']- hold_out_df['PAY_AMT4'])/hold_out_df['LIMIT_BAL']\n",
    "hold_out_df['LIM_PAY_ratio_5']=(hold_out_df['LIMIT_BAL']- hold_out_df['PAY_AMT5'])/hold_out_df['LIMIT_BAL']\n",
    "hold_out_df['LIM_PAY_ratio_6']=(hold_out_df['LIMIT_BAL']- hold_out_df['PAY_AMT6'])/hold_out_df['LIMIT_BAL']\n",
    "hold_out_df['LIM_BILL_ratio_1']=(hold_out_df['LIMIT_BAL']- hold_out_df['BILL_AMT1'])/hold_out_df['LIMIT_BAL']\n",
    "hold_out_df['LIM_BILL_ratio_2']=(hold_out_df['LIMIT_BAL']- hold_out_df['BILL_AMT2'])/hold_out_df['LIMIT_BAL']\n",
    "hold_out_df['LIM_BILL_ratio_3']=(hold_out_df['LIMIT_BAL']- hold_out_df['BILL_AMT3'])/hold_out_df['LIMIT_BAL']\n",
    "hold_out_df['LIM_BILL_ratio_4']=(hold_out_df['LIMIT_BAL']- hold_out_df['BILL_AMT4'])/hold_out_df['LIMIT_BAL']\n",
    "hold_out_df['LIM_BILL_ratio_5']=(hold_out_df['LIMIT_BAL']- hold_out_df['BILL_AMT5'])/hold_out_df['LIMIT_BAL']\n",
    "hold_out_df['LIM_BILL_ratio_6']=(hold_out_df['LIMIT_BAL']- hold_out_df['BILL_AMT6'])/hold_out_df['LIMIT_BAL']\n"
   ]
  },
  {
   "cell_type": "code",
   "execution_count": 193,
   "metadata": {
    "scrolled": true
   },
   "outputs": [
    {
     "data": {
      "text/plain": [
       "2    4540\n",
       "1    2961\n",
       "Name: SEX, dtype: int64"
      ]
     },
     "execution_count": 193,
     "metadata": {},
     "output_type": "execute_result"
    }
   ],
   "source": [
    "hold_out_df['SEX'].value_counts()"
   ]
  },
  {
   "cell_type": "code",
   "execution_count": null,
   "metadata": {},
   "outputs": [],
   "source": [
    "hold_out_df.SEX=np.where(hold_out_df.SEX==1,1,0)\n",
    "conds=[hold_out_df.EDUCATION==4,hold_out_df.EDUCATION==5,hold_out_df.EDUCATION==6,hold_out_df.EDUCATION==1,hold_out_df.EDUCATION==3]\n",
    "choices=[0,0,0,3,1]\n",
    "hold_out_df.EDUCATION=np.select(conds,choices,default=hold_out_df.EDUCATION)\n",
    "hold_out_df.MARRIAGE=np.where(hold_out_df.MARRIAGE==3,0,hold_out_df.MARRIAGE)"
   ]
  },
  {
   "cell_type": "code",
   "execution_count": null,
   "metadata": {},
   "outputs": [],
   "source": []
  },
  {
   "cell_type": "markdown",
   "metadata": {},
   "source": [
    "## 7. Final Model"
   ]
  },
  {
   "cell_type": "code",
   "execution_count": null,
   "metadata": {},
   "outputs": [],
   "source": []
  },
  {
   "cell_type": "code",
   "execution_count": null,
   "metadata": {},
   "outputs": [],
   "source": []
  }
 ],
 "metadata": {
  "kernelspec": {
   "display_name": "Python 3",
   "language": "python",
   "name": "python3"
  },
  "language_info": {
   "codemirror_mode": {
    "name": "ipython",
    "version": 3
   },
   "file_extension": ".py",
   "mimetype": "text/x-python",
   "name": "python",
   "nbconvert_exporter": "python",
   "pygments_lexer": "ipython3",
   "version": "3.7.6"
  },
  "toc": {
   "base_numbering": 1,
   "nav_menu": {},
   "number_sections": true,
   "sideBar": true,
   "skip_h1_title": false,
   "title_cell": "Table of Contents",
   "title_sidebar": "Contents",
   "toc_cell": false,
   "toc_position": {},
   "toc_section_display": true,
   "toc_window_display": false
  }
 },
 "nbformat": 4,
 "nbformat_minor": 2
}
